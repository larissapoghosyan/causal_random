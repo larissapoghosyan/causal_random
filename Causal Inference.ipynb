{
 "cells": [
  {
   "cell_type": "code",
   "execution_count": 938,
   "metadata": {
    "ExecuteTime": {
     "end_time": "2020-04-29T01:44:51.172976Z",
     "start_time": "2020-04-29T01:44:51.169150Z"
    }
   },
   "outputs": [],
   "source": [
    "import pandas as pd\n",
    "from pathlib import Path\n",
    "from pandas_profiling import ProfileReport\n",
    "import seaborn as sns\n",
    "import matplotlib.pyplot as plt"
   ]
  },
  {
   "cell_type": "code",
   "execution_count": 939,
   "metadata": {
    "ExecuteTime": {
     "end_time": "2020-04-29T01:44:51.418267Z",
     "start_time": "2020-04-29T01:44:51.414172Z"
    }
   },
   "outputs": [],
   "source": [
    "data_path = Path(\"./data/\")\n",
    "data = pd.read_csv(data_path / \"chess.csv\", names=['id','group','pre','post', 'gender', 'age', 'math_grade', 'overall_grade'])"
   ]
  },
  {
   "cell_type": "code",
   "execution_count": 940,
   "metadata": {
    "ExecuteTime": {
     "end_time": "2020-04-29T01:44:51.602198Z",
     "start_time": "2020-04-29T01:44:51.595601Z"
    }
   },
   "outputs": [
    {
     "data": {
      "text/html": [
       "<div>\n",
       "<style scoped>\n",
       "    .dataframe tbody tr th:only-of-type {\n",
       "        vertical-align: middle;\n",
       "    }\n",
       "\n",
       "    .dataframe tbody tr th {\n",
       "        vertical-align: top;\n",
       "    }\n",
       "\n",
       "    .dataframe thead th {\n",
       "        text-align: right;\n",
       "    }\n",
       "</style>\n",
       "<table border=\"1\" class=\"dataframe\">\n",
       "  <thead>\n",
       "    <tr style=\"text-align: right;\">\n",
       "      <th></th>\n",
       "      <th>id</th>\n",
       "      <th>group</th>\n",
       "      <th>pre</th>\n",
       "      <th>post</th>\n",
       "      <th>gender</th>\n",
       "      <th>age</th>\n",
       "      <th>math_grade</th>\n",
       "      <th>overall_grade</th>\n",
       "    </tr>\n",
       "  </thead>\n",
       "  <tbody>\n",
       "    <tr>\n",
       "      <th>0</th>\n",
       "      <td>3</td>\n",
       "      <td>Control</td>\n",
       "      <td>17</td>\n",
       "      <td>14</td>\n",
       "      <td>Girl</td>\n",
       "      <td>24</td>\n",
       "      <td>6.0</td>\n",
       "      <td>Poor</td>\n",
       "    </tr>\n",
       "    <tr>\n",
       "      <th>1</th>\n",
       "      <td>4</td>\n",
       "      <td>Control</td>\n",
       "      <td>16</td>\n",
       "      <td>7</td>\n",
       "      <td>Girl</td>\n",
       "      <td>19</td>\n",
       "      <td>6.5</td>\n",
       "      <td>Poor</td>\n",
       "    </tr>\n",
       "    <tr>\n",
       "      <th>2</th>\n",
       "      <td>5</td>\n",
       "      <td>Control</td>\n",
       "      <td>9</td>\n",
       "      <td>9</td>\n",
       "      <td>Girl</td>\n",
       "      <td>23</td>\n",
       "      <td>7.0</td>\n",
       "      <td>Poor</td>\n",
       "    </tr>\n",
       "    <tr>\n",
       "      <th>3</th>\n",
       "      <td>6</td>\n",
       "      <td>Control</td>\n",
       "      <td>14</td>\n",
       "      <td>11</td>\n",
       "      <td>Girl</td>\n",
       "      <td>17</td>\n",
       "      <td>6.7</td>\n",
       "      <td>Poor</td>\n",
       "    </tr>\n",
       "    <tr>\n",
       "      <th>4</th>\n",
       "      <td>7</td>\n",
       "      <td>Control</td>\n",
       "      <td>9</td>\n",
       "      <td>11</td>\n",
       "      <td>Boy</td>\n",
       "      <td>21</td>\n",
       "      <td>6.8</td>\n",
       "      <td>Poor</td>\n",
       "    </tr>\n",
       "  </tbody>\n",
       "</table>\n",
       "</div>"
      ],
      "text/plain": [
       "   id    group  pre  post gender  age  math_grade overall_grade\n",
       "0   3  Control   17    14   Girl   24         6.0          Poor\n",
       "1   4  Control   16     7   Girl   19         6.5          Poor\n",
       "2   5  Control    9     9   Girl   23         7.0          Poor\n",
       "3   6  Control   14    11   Girl   17         6.7          Poor\n",
       "4   7  Control    9    11    Boy   21         6.8          Poor"
      ]
     },
     "execution_count": 940,
     "metadata": {},
     "output_type": "execute_result"
    }
   ],
   "source": [
    "data.head()"
   ]
  },
  {
   "cell_type": "code",
   "execution_count": 941,
   "metadata": {
    "ExecuteTime": {
     "end_time": "2020-04-29T01:44:51.787386Z",
     "start_time": "2020-04-29T01:44:51.780734Z"
    }
   },
   "outputs": [],
   "source": [
    "data_pre = data[['id','group', 'pre', 'gender', 'age', 'math_grade', 'overall_grade']].rename(columns={'pre': 'answers'})\n",
    "data_pre['status'] = 0\n",
    "data_post = data[['id','group', 'post', 'gender', 'age', 'math_grade', 'overall_grade']].rename(columns={'post': 'answers'})\n",
    "data_post['status'] = 1"
   ]
  },
  {
   "cell_type": "code",
   "execution_count": 946,
   "metadata": {
    "ExecuteTime": {
     "end_time": "2020-04-29T01:45:13.288475Z",
     "start_time": "2020-04-29T01:45:13.283085Z"
    }
   },
   "outputs": [],
   "source": [
    "data_processed = data_post.drop(\"status\", axis=1) #pd.concat([data_pre, data_post])"
   ]
  },
  {
   "cell_type": "code",
   "execution_count": 947,
   "metadata": {
    "ExecuteTime": {
     "end_time": "2020-04-29T01:45:13.888801Z",
     "start_time": "2020-04-29T01:45:13.875269Z"
    }
   },
   "outputs": [
    {
     "data": {
      "text/html": [
       "<div>\n",
       "<style scoped>\n",
       "    .dataframe tbody tr th:only-of-type {\n",
       "        vertical-align: middle;\n",
       "    }\n",
       "\n",
       "    .dataframe tbody tr th {\n",
       "        vertical-align: top;\n",
       "    }\n",
       "\n",
       "    .dataframe thead th {\n",
       "        text-align: right;\n",
       "    }\n",
       "</style>\n",
       "<table border=\"1\" class=\"dataframe\">\n",
       "  <thead>\n",
       "    <tr style=\"text-align: right;\">\n",
       "      <th></th>\n",
       "      <th>id</th>\n",
       "      <th>group</th>\n",
       "      <th>answers</th>\n",
       "      <th>gender</th>\n",
       "      <th>age</th>\n",
       "      <th>math_grade</th>\n",
       "      <th>overall_grade</th>\n",
       "    </tr>\n",
       "  </thead>\n",
       "  <tbody>\n",
       "    <tr>\n",
       "      <th>0</th>\n",
       "      <td>3</td>\n",
       "      <td>0</td>\n",
       "      <td>14</td>\n",
       "      <td>1</td>\n",
       "      <td>24</td>\n",
       "      <td>6.0</td>\n",
       "      <td>Poor</td>\n",
       "    </tr>\n",
       "    <tr>\n",
       "      <th>1</th>\n",
       "      <td>4</td>\n",
       "      <td>0</td>\n",
       "      <td>7</td>\n",
       "      <td>1</td>\n",
       "      <td>19</td>\n",
       "      <td>6.5</td>\n",
       "      <td>Poor</td>\n",
       "    </tr>\n",
       "    <tr>\n",
       "      <th>2</th>\n",
       "      <td>5</td>\n",
       "      <td>0</td>\n",
       "      <td>9</td>\n",
       "      <td>1</td>\n",
       "      <td>23</td>\n",
       "      <td>7.0</td>\n",
       "      <td>Poor</td>\n",
       "    </tr>\n",
       "    <tr>\n",
       "      <th>3</th>\n",
       "      <td>6</td>\n",
       "      <td>0</td>\n",
       "      <td>11</td>\n",
       "      <td>1</td>\n",
       "      <td>17</td>\n",
       "      <td>6.7</td>\n",
       "      <td>Poor</td>\n",
       "    </tr>\n",
       "    <tr>\n",
       "      <th>4</th>\n",
       "      <td>7</td>\n",
       "      <td>0</td>\n",
       "      <td>11</td>\n",
       "      <td>0</td>\n",
       "      <td>21</td>\n",
       "      <td>6.8</td>\n",
       "      <td>Poor</td>\n",
       "    </tr>\n",
       "  </tbody>\n",
       "</table>\n",
       "</div>"
      ],
      "text/plain": [
       "   id  group  answers  gender  age  math_grade overall_grade\n",
       "0   3      0       14       1   24         6.0          Poor\n",
       "1   4      0        7       1   19         6.5          Poor\n",
       "2   5      0        9       1   23         7.0          Poor\n",
       "3   6      0       11       1   17         6.7          Poor\n",
       "4   7      0       11       0   21         6.8          Poor"
      ]
     },
     "execution_count": 947,
     "metadata": {},
     "output_type": "execute_result"
    }
   ],
   "source": [
    "data_processed.head()"
   ]
  },
  {
   "cell_type": "code",
   "execution_count": 948,
   "metadata": {
    "ExecuteTime": {
     "end_time": "2020-04-29T01:45:15.933955Z",
     "start_time": "2020-04-29T01:45:15.928456Z"
    }
   },
   "outputs": [],
   "source": [
    "data_processed.loc[data_processed.group == 'Control', 'group'] = 0\n",
    "data_processed.loc[data_processed.group == 'Treatment', 'group'] = 1"
   ]
  },
  {
   "cell_type": "code",
   "execution_count": 949,
   "metadata": {
    "ExecuteTime": {
     "end_time": "2020-04-29T01:45:16.413252Z",
     "start_time": "2020-04-29T01:45:16.404057Z"
    }
   },
   "outputs": [],
   "source": [
    "data_processed.loc[data_processed.gender == 'Boy', 'gender'] = 0\n",
    "data_processed.loc[data_processed.gender == 'Girl', 'gender'] = 1"
   ]
  },
  {
   "cell_type": "code",
   "execution_count": 950,
   "metadata": {
    "ExecuteTime": {
     "end_time": "2020-04-29T01:45:16.836248Z",
     "start_time": "2020-04-29T01:45:16.826207Z"
    }
   },
   "outputs": [],
   "source": [
    "data_processed.loc[data_processed.overall_grade == 'Poor', 'overall_grade'] = 0\n",
    "data_processed.loc[data_processed.overall_grade == 'Average', 'overall_grade'] = 1\n",
    "data_processed.loc[data_processed.overall_grade == 'Excellent', 'overall_grade'] = 2"
   ]
  },
  {
   "cell_type": "markdown",
   "metadata": {},
   "source": [
    "## Exploring the Data"
   ]
  },
  {
   "cell_type": "code",
   "execution_count": 951,
   "metadata": {
    "ExecuteTime": {
     "end_time": "2020-04-29T01:45:24.569457Z",
     "start_time": "2020-04-29T01:45:18.045122Z"
    }
   },
   "outputs": [
    {
     "data": {
      "application/vnd.jupyter.widget-view+json": {
       "model_id": "d8c5fdb3c2e34b3cb28885063c55dcae",
       "version_major": 2,
       "version_minor": 0
      },
      "text/plain": [
       "HBox(children=(FloatProgress(value=0.0, description='variables', max=8.0, style=ProgressStyle(description_widt…"
      ]
     },
     "metadata": {},
     "output_type": "display_data"
    },
    {
     "name": "stdout",
     "output_type": "stream",
     "text": [
      "\n"
     ]
    },
    {
     "data": {
      "application/vnd.jupyter.widget-view+json": {
       "model_id": "fbae0ce8f47a45c885a5b1f92cd00185",
       "version_major": 2,
       "version_minor": 0
      },
      "text/plain": [
       "HBox(children=(FloatProgress(value=0.0, description='correlations', max=6.0, style=ProgressStyle(description_w…"
      ]
     },
     "metadata": {},
     "output_type": "display_data"
    },
    {
     "name": "stdout",
     "output_type": "stream",
     "text": [
      "\n"
     ]
    },
    {
     "data": {
      "application/vnd.jupyter.widget-view+json": {
       "model_id": "b8f69f9eca4443d5999472e63b4e098c",
       "version_major": 2,
       "version_minor": 0
      },
      "text/plain": [
       "HBox(children=(FloatProgress(value=0.0, description='interactions [continuous]', max=25.0, style=ProgressStyle…"
      ]
     },
     "metadata": {},
     "output_type": "display_data"
    },
    {
     "name": "stdout",
     "output_type": "stream",
     "text": [
      "\n"
     ]
    },
    {
     "data": {
      "application/vnd.jupyter.widget-view+json": {
       "model_id": "cc656ecf71fc4d85b4db541bc18fb3cf",
       "version_major": 2,
       "version_minor": 0
      },
      "text/plain": [
       "HBox(children=(FloatProgress(value=0.0, description='table', max=1.0, style=ProgressStyle(description_width='i…"
      ]
     },
     "metadata": {},
     "output_type": "display_data"
    },
    {
     "name": "stdout",
     "output_type": "stream",
     "text": [
      "\n"
     ]
    },
    {
     "data": {
      "application/vnd.jupyter.widget-view+json": {
       "model_id": "d11384870b6345fdba7934c27fc11b0b",
       "version_major": 2,
       "version_minor": 0
      },
      "text/plain": [
       "HBox(children=(FloatProgress(value=0.0, description='missing', max=2.0, style=ProgressStyle(description_width=…"
      ]
     },
     "metadata": {},
     "output_type": "display_data"
    },
    {
     "name": "stdout",
     "output_type": "stream",
     "text": [
      "\n"
     ]
    },
    {
     "data": {
      "application/vnd.jupyter.widget-view+json": {
       "model_id": "f80100940b7344e5a3834a3098c58bc2",
       "version_major": 2,
       "version_minor": 0
      },
      "text/plain": [
       "HBox(children=(FloatProgress(value=0.0, description='warnings', max=3.0, style=ProgressStyle(description_width…"
      ]
     },
     "metadata": {},
     "output_type": "display_data"
    },
    {
     "name": "stdout",
     "output_type": "stream",
     "text": [
      "\n"
     ]
    },
    {
     "data": {
      "application/vnd.jupyter.widget-view+json": {
       "model_id": "caf10a74c4c8400880bde6eb1600c2df",
       "version_major": 2,
       "version_minor": 0
      },
      "text/plain": [
       "HBox(children=(FloatProgress(value=0.0, description='package', max=1.0, style=ProgressStyle(description_width=…"
      ]
     },
     "metadata": {},
     "output_type": "display_data"
    },
    {
     "name": "stdout",
     "output_type": "stream",
     "text": [
      "\n"
     ]
    },
    {
     "data": {
      "application/vnd.jupyter.widget-view+json": {
       "model_id": "e29e2ce1ab9f4a139d9d91f94b9e1589",
       "version_major": 2,
       "version_minor": 0
      },
      "text/plain": [
       "HBox(children=(FloatProgress(value=0.0, description='build report structure', max=1.0, style=ProgressStyle(des…"
      ]
     },
     "metadata": {},
     "output_type": "display_data"
    },
    {
     "name": "stdout",
     "output_type": "stream",
     "text": [
      "\n"
     ]
    }
   ],
   "source": [
    "profile = ProfileReport(data, title='Pandas Profiling Report', html={'style':{'full_width':True}})"
   ]
  },
  {
   "cell_type": "code",
   "execution_count": 952,
   "metadata": {
    "ExecuteTime": {
     "end_time": "2020-04-29T01:45:30.233806Z",
     "start_time": "2020-04-29T01:45:26.270512Z"
    },
    "scrolled": false
   },
   "outputs": [
    {
     "data": {
      "application/vnd.jupyter.widget-view+json": {
       "model_id": "d1cd9e05cff74ac28869d1e33338855e",
       "version_major": 2,
       "version_minor": 0
      },
      "text/plain": [
       "Tab(children=(Tab(children=(GridBox(children=(VBox(children=(GridspecLayout(children=(HTML(value='Number of va…"
      ]
     },
     "metadata": {},
     "output_type": "display_data"
    },
    {
     "data": {
      "text/html": [
       "Report generated with <a href=\"https://github.com/pandas-profiling/pandas-profiling\">pandas-profiling</a>."
      ],
      "text/plain": [
       "<IPython.core.display.HTML object>"
      ]
     },
     "metadata": {},
     "output_type": "display_data"
    }
   ],
   "source": [
    "profile.to_widgets()"
   ]
  },
  {
   "cell_type": "code",
   "execution_count": 954,
   "metadata": {
    "ExecuteTime": {
     "end_time": "2020-04-29T01:45:39.814676Z",
     "start_time": "2020-04-29T01:45:39.556157Z"
    }
   },
   "outputs": [
    {
     "name": "stderr",
     "output_type": "stream",
     "text": [
      "WARNING:matplotlib.legend:No handles with labels found to put in legend.\n"
     ]
    },
    {
     "data": {
      "image/png": "[encoded data removed]",
      "text/plain": [
       "<Figure size 1152x864 with 1 Axes>"
      ]
     },
     "metadata": {
      "needs_background": "light"
     },
     "output_type": "display_data"
    }
   ],
   "source": [
    "plt.figure(figsize=(16,12))\n",
    "sns.boxplot(y='answers',x='group', data=data_processed)\n",
    "plt.xlabel(\"Status\", fontsize=14)\n",
    "plt.legend(prop={'size': 14});"
   ]
  },
  {
   "cell_type": "markdown",
   "metadata": {
    "ExecuteTime": {
     "end_time": "2020-04-27T22:05:42.853342Z",
     "start_time": "2020-04-27T22:05:42.845029Z"
    }
   },
   "source": [
    "## Statistical estimate"
   ]
  },
  {
   "cell_type": "code",
   "execution_count": 955,
   "metadata": {
    "ExecuteTime": {
     "end_time": "2020-04-29T01:45:57.853734Z",
     "start_time": "2020-04-29T01:45:57.851844Z"
    }
   },
   "outputs": [],
   "source": [
    "import statsmodels.api as sm\n",
    "from patsy import dmatrices"
   ]
  },
  {
   "cell_type": "code",
   "execution_count": 957,
   "metadata": {
    "ExecuteTime": {
     "end_time": "2020-04-29T01:46:04.034131Z",
     "start_time": "2020-04-29T01:46:04.030464Z"
    }
   },
   "outputs": [],
   "source": [
    "# data_processed['interaction'] = data_processed['status']*data_processed['group']"
   ]
  },
  {
   "cell_type": "code",
   "execution_count": 958,
   "metadata": {
    "ExecuteTime": {
     "end_time": "2020-04-29T01:46:05.254976Z",
     "start_time": "2020-04-29T01:46:05.248903Z"
    }
   },
   "outputs": [
    {
     "data": {
      "text/html": [
       "<div>\n",
       "<style scoped>\n",
       "    .dataframe tbody tr th:only-of-type {\n",
       "        vertical-align: middle;\n",
       "    }\n",
       "\n",
       "    .dataframe tbody tr th {\n",
       "        vertical-align: top;\n",
       "    }\n",
       "\n",
       "    .dataframe thead th {\n",
       "        text-align: right;\n",
       "    }\n",
       "</style>\n",
       "<table border=\"1\" class=\"dataframe\">\n",
       "  <thead>\n",
       "    <tr style=\"text-align: right;\">\n",
       "      <th></th>\n",
       "      <th>id</th>\n",
       "      <th>group</th>\n",
       "      <th>answers</th>\n",
       "      <th>gender</th>\n",
       "      <th>age</th>\n",
       "      <th>math_grade</th>\n",
       "      <th>overall_grade</th>\n",
       "    </tr>\n",
       "  </thead>\n",
       "  <tbody>\n",
       "    <tr>\n",
       "      <th>0</th>\n",
       "      <td>3</td>\n",
       "      <td>0</td>\n",
       "      <td>14</td>\n",
       "      <td>1</td>\n",
       "      <td>24</td>\n",
       "      <td>6.0</td>\n",
       "      <td>0</td>\n",
       "    </tr>\n",
       "    <tr>\n",
       "      <th>1</th>\n",
       "      <td>4</td>\n",
       "      <td>0</td>\n",
       "      <td>7</td>\n",
       "      <td>1</td>\n",
       "      <td>19</td>\n",
       "      <td>6.5</td>\n",
       "      <td>0</td>\n",
       "    </tr>\n",
       "    <tr>\n",
       "      <th>2</th>\n",
       "      <td>5</td>\n",
       "      <td>0</td>\n",
       "      <td>9</td>\n",
       "      <td>1</td>\n",
       "      <td>23</td>\n",
       "      <td>7.0</td>\n",
       "      <td>0</td>\n",
       "    </tr>\n",
       "    <tr>\n",
       "      <th>3</th>\n",
       "      <td>6</td>\n",
       "      <td>0</td>\n",
       "      <td>11</td>\n",
       "      <td>1</td>\n",
       "      <td>17</td>\n",
       "      <td>6.7</td>\n",
       "      <td>0</td>\n",
       "    </tr>\n",
       "    <tr>\n",
       "      <th>4</th>\n",
       "      <td>7</td>\n",
       "      <td>0</td>\n",
       "      <td>11</td>\n",
       "      <td>0</td>\n",
       "      <td>21</td>\n",
       "      <td>6.8</td>\n",
       "      <td>0</td>\n",
       "    </tr>\n",
       "  </tbody>\n",
       "</table>\n",
       "</div>"
      ],
      "text/plain": [
       "   id  group  answers  gender  age  math_grade  overall_grade\n",
       "0   3      0       14       1   24         6.0              0\n",
       "1   4      0        7       1   19         6.5              0\n",
       "2   5      0        9       1   23         7.0              0\n",
       "3   6      0       11       1   17         6.7              0\n",
       "4   7      0       11       0   21         6.8              0"
      ]
     },
     "execution_count": 958,
     "metadata": {},
     "output_type": "execute_result"
    }
   ],
   "source": [
    "data_processed.head()"
   ]
  },
  {
   "cell_type": "code",
   "execution_count": 959,
   "metadata": {
    "ExecuteTime": {
     "end_time": "2020-04-29T01:46:18.975573Z",
     "start_time": "2020-04-29T01:46:18.964780Z"
    }
   },
   "outputs": [],
   "source": [
    "y, X = dmatrices('answers ~  group', data=data_processed, return_type='dataframe')\n",
    "mod = sm.OLS(y, X) \n",
    "res = mod.fit()"
   ]
  },
  {
   "cell_type": "code",
   "execution_count": 960,
   "metadata": {
    "ExecuteTime": {
     "end_time": "2020-04-29T01:46:19.674901Z",
     "start_time": "2020-04-29T01:46:19.655073Z"
    }
   },
   "outputs": [
    {
     "data": {
      "text/html": [
       "<table class=\"simpletable\">\n",
       "<caption>OLS Regression Results</caption>\n",
       "<tr>\n",
       "  <th>Dep. Variable:</th>         <td>answers</td>     <th>  R-squared:         </th> <td>   0.565</td> \n",
       "</tr>\n",
       "<tr>\n",
       "  <th>Model:</th>                   <td>OLS</td>       <th>  Adj. R-squared:    </th> <td>   0.564</td> \n",
       "</tr>\n",
       "<tr>\n",
       "  <th>Method:</th>             <td>Least Squares</td>  <th>  F-statistic:       </th> <td>   1192.</td> \n",
       "</tr>\n",
       "<tr>\n",
       "  <th>Date:</th>             <td>Wed, 29 Apr 2020</td> <th>  Prob (F-statistic):</th> <td>4.08e-168</td>\n",
       "</tr>\n",
       "<tr>\n",
       "  <th>Time:</th>                 <td>03:46:19</td>     <th>  Log-Likelihood:    </th> <td> -2881.7</td> \n",
       "</tr>\n",
       "<tr>\n",
       "  <th>No. Observations:</th>      <td>   921</td>      <th>  AIC:               </th> <td>   5767.</td> \n",
       "</tr>\n",
       "<tr>\n",
       "  <th>Df Residuals:</th>          <td>   919</td>      <th>  BIC:               </th> <td>   5777.</td> \n",
       "</tr>\n",
       "<tr>\n",
       "  <th>Df Model:</th>              <td>     1</td>      <th>                     </th>     <td> </td>    \n",
       "</tr>\n",
       "<tr>\n",
       "  <th>Covariance Type:</th>      <td>nonrobust</td>    <th>                     </th>     <td> </td>    \n",
       "</tr>\n",
       "</table>\n",
       "<table class=\"simpletable\">\n",
       "<tr>\n",
       "      <td></td>         <th>coef</th>     <th>std err</th>      <th>t</th>      <th>P>|t|</th>  <th>[0.025</th>    <th>0.975]</th>  \n",
       "</tr>\n",
       "<tr>\n",
       "  <th>Intercept</th> <td>   11.8321</td> <td>    0.235</td> <td>   50.316</td> <td> 0.000</td> <td>   11.371</td> <td>   12.294</td>\n",
       "</tr>\n",
       "<tr>\n",
       "  <th>group</th>     <td>   12.8600</td> <td>    0.373</td> <td>   34.521</td> <td> 0.000</td> <td>   12.129</td> <td>   13.591</td>\n",
       "</tr>\n",
       "</table>\n",
       "<table class=\"simpletable\">\n",
       "<tr>\n",
       "  <th>Omnibus:</th>       <td>143.095</td> <th>  Durbin-Watson:     </th> <td>   1.864</td>\n",
       "</tr>\n",
       "<tr>\n",
       "  <th>Prob(Omnibus):</th> <td> 0.000</td>  <th>  Jarque-Bera (JB):  </th> <td> 299.113</td>\n",
       "</tr>\n",
       "<tr>\n",
       "  <th>Skew:</th>          <td>-0.891</td>  <th>  Prob(JB):          </th> <td>1.12e-65</td>\n",
       "</tr>\n",
       "<tr>\n",
       "  <th>Kurtosis:</th>      <td> 5.149</td>  <th>  Cond. No.          </th> <td>    2.45</td>\n",
       "</tr>\n",
       "</table><br/><br/>Warnings:<br/>[1] Standard Errors assume that the covariance matrix of the errors is correctly specified."
      ],
      "text/plain": [
       "<class 'statsmodels.iolib.summary.Summary'>\n",
       "\"\"\"\n",
       "                            OLS Regression Results                            \n",
       "==============================================================================\n",
       "Dep. Variable:                answers   R-squared:                       0.565\n",
       "Model:                            OLS   Adj. R-squared:                  0.564\n",
       "Method:                 Least Squares   F-statistic:                     1192.\n",
       "Date:                Wed, 29 Apr 2020   Prob (F-statistic):          4.08e-168\n",
       "Time:                        03:46:19   Log-Likelihood:                -2881.7\n",
       "No. Observations:                 921   AIC:                             5767.\n",
       "Df Residuals:                     919   BIC:                             5777.\n",
       "Df Model:                           1                                         \n",
       "Covariance Type:            nonrobust                                         \n",
       "==============================================================================\n",
       "                 coef    std err          t      P>|t|      [0.025      0.975]\n",
       "------------------------------------------------------------------------------\n",
       "Intercept     11.8321      0.235     50.316      0.000      11.371      12.294\n",
       "group         12.8600      0.373     34.521      0.000      12.129      13.591\n",
       "==============================================================================\n",
       "Omnibus:                      143.095   Durbin-Watson:                   1.864\n",
       "Prob(Omnibus):                  0.000   Jarque-Bera (JB):              299.113\n",
       "Skew:                          -0.891   Prob(JB):                     1.12e-65\n",
       "Kurtosis:                       5.149   Cond. No.                         2.45\n",
       "==============================================================================\n",
       "\n",
       "Warnings:\n",
       "[1] Standard Errors assume that the covariance matrix of the errors is correctly specified.\n",
       "\"\"\""
      ]
     },
     "execution_count": 960,
     "metadata": {},
     "output_type": "execute_result"
    }
   ],
   "source": [
    "res.summary()"
   ]
  },
  {
   "cell_type": "code",
   "execution_count": 961,
   "metadata": {
    "ExecuteTime": {
     "end_time": "2020-04-29T01:46:27.524248Z",
     "start_time": "2020-04-29T01:46:27.521973Z"
    }
   },
   "outputs": [],
   "source": [
    "def change_to_float(col_list, data):\n",
    "    for col in col_list:\n",
    "        data[col] = data[col].astype(float)\n",
    "    return data"
   ]
  },
  {
   "cell_type": "code",
   "execution_count": 962,
   "metadata": {
    "ExecuteTime": {
     "end_time": "2020-04-29T01:46:49.146525Z",
     "start_time": "2020-04-29T01:46:49.136007Z"
    }
   },
   "outputs": [],
   "source": [
    "out = change_to_float(data_processed.columns.tolist(), data_processed)\n",
    "# out = out.drop([\"id\", 'interaction', 'status'], axis=1)\n",
    "out = out.drop([\"id\"], axis=1)"
   ]
  },
  {
   "cell_type": "code",
   "execution_count": 963,
   "metadata": {
    "ExecuteTime": {
     "end_time": "2020-04-29T01:46:49.701669Z",
     "start_time": "2020-04-29T01:46:49.690568Z"
    }
   },
   "outputs": [],
   "source": [
    "out.to_csv(data_path / \"chess_processed.csv\", index=False)"
   ]
  },
  {
   "cell_type": "markdown",
   "metadata": {
    "ExecuteTime": {
     "end_time": "2020-04-27T23:28:15.858583Z",
     "start_time": "2020-04-27T23:28:15.845930Z"
    }
   },
   "source": [
    "## Running DAG-estimation method"
   ]
  },
  {
   "cell_type": "markdown",
   "metadata": {},
   "source": [
    "### Linear"
   ]
  },
  {
   "cell_type": "code",
   "execution_count": 1080,
   "metadata": {
    "ExecuteTime": {
     "end_time": "2020-04-29T09:24:08.388419Z",
     "start_time": "2020-04-29T09:24:08.386454Z"
    }
   },
   "outputs": [],
   "source": [
    "import networkx as nx\n",
    "import numpy as np\n",
    "import pandas as pd\n",
    "from pathlib import Path\n",
    "import matplotlib.pyplot as plt"
   ]
  },
  {
   "cell_type": "code",
   "execution_count": 1081,
   "metadata": {
    "ExecuteTime": {
     "end_time": "2020-04-29T09:24:08.690956Z",
     "start_time": "2020-04-29T09:24:08.687163Z"
    }
   },
   "outputs": [],
   "source": [
    "data_path = Path(\"./data/\")\n",
    "dag = pd.read_csv(data_path /  \"dag.csv\", names=['group', 'answers', 'gender', 'age', 'math_grade', 'overall_grade'])"
   ]
  },
  {
   "cell_type": "code",
   "execution_count": 1082,
   "metadata": {
    "ExecuteTime": {
     "end_time": "2020-04-29T09:24:09.089348Z",
     "start_time": "2020-04-29T09:24:09.076609Z"
    }
   },
   "outputs": [
    {
     "data": {
      "text/html": [
       "<div>\n",
       "<style scoped>\n",
       "    .dataframe tbody tr th:only-of-type {\n",
       "        vertical-align: middle;\n",
       "    }\n",
       "\n",
       "    .dataframe tbody tr th {\n",
       "        vertical-align: top;\n",
       "    }\n",
       "\n",
       "    .dataframe thead th {\n",
       "        text-align: right;\n",
       "    }\n",
       "</style>\n",
       "<table border=\"1\" class=\"dataframe\">\n",
       "  <thead>\n",
       "    <tr style=\"text-align: right;\">\n",
       "      <th></th>\n",
       "      <th>group</th>\n",
       "      <th>answers</th>\n",
       "      <th>gender</th>\n",
       "      <th>age</th>\n",
       "      <th>math_grade</th>\n",
       "      <th>overall_grade</th>\n",
       "    </tr>\n",
       "  </thead>\n",
       "  <tbody>\n",
       "    <tr>\n",
       "      <th>0</th>\n",
       "      <td>0.0</td>\n",
       "      <td>12.167067</td>\n",
       "      <td>0.0</td>\n",
       "      <td>-1.440987</td>\n",
       "      <td>1.413410</td>\n",
       "      <td>0.648164</td>\n",
       "    </tr>\n",
       "    <tr>\n",
       "      <th>1</th>\n",
       "      <td>0.0</td>\n",
       "      <td>0.000000</td>\n",
       "      <td>0.0</td>\n",
       "      <td>0.000000</td>\n",
       "      <td>0.000000</td>\n",
       "      <td>0.000000</td>\n",
       "    </tr>\n",
       "    <tr>\n",
       "      <th>2</th>\n",
       "      <td>0.0</td>\n",
       "      <td>0.000000</td>\n",
       "      <td>0.0</td>\n",
       "      <td>0.750332</td>\n",
       "      <td>1.349791</td>\n",
       "      <td>0.916576</td>\n",
       "    </tr>\n",
       "    <tr>\n",
       "      <th>3</th>\n",
       "      <td>0.0</td>\n",
       "      <td>0.000000</td>\n",
       "      <td>0.0</td>\n",
       "      <td>0.000000</td>\n",
       "      <td>0.000000</td>\n",
       "      <td>0.000000</td>\n",
       "    </tr>\n",
       "    <tr>\n",
       "      <th>4</th>\n",
       "      <td>0.0</td>\n",
       "      <td>1.317053</td>\n",
       "      <td>0.0</td>\n",
       "      <td>2.380616</td>\n",
       "      <td>0.000000</td>\n",
       "      <td>0.000000</td>\n",
       "    </tr>\n",
       "    <tr>\n",
       "      <th>5</th>\n",
       "      <td>0.0</td>\n",
       "      <td>0.385842</td>\n",
       "      <td>0.0</td>\n",
       "      <td>-1.799085</td>\n",
       "      <td>3.945740</td>\n",
       "      <td>0.000000</td>\n",
       "    </tr>\n",
       "  </tbody>\n",
       "</table>\n",
       "</div>"
      ],
      "text/plain": [
       "   group    answers  gender       age  math_grade  overall_grade\n",
       "0    0.0  12.167067     0.0 -1.440987    1.413410       0.648164\n",
       "1    0.0   0.000000     0.0  0.000000    0.000000       0.000000\n",
       "2    0.0   0.000000     0.0  0.750332    1.349791       0.916576\n",
       "3    0.0   0.000000     0.0  0.000000    0.000000       0.000000\n",
       "4    0.0   1.317053     0.0  2.380616    0.000000       0.000000\n",
       "5    0.0   0.385842     0.0 -1.799085    3.945740       0.000000"
      ]
     },
     "execution_count": 1082,
     "metadata": {},
     "output_type": "execute_result"
    }
   ],
   "source": [
    "dag"
   ]
  },
  {
   "cell_type": "code",
   "execution_count": 1083,
   "metadata": {
    "ExecuteTime": {
     "end_time": "2020-04-29T09:24:09.535923Z",
     "start_time": "2020-04-29T09:24:09.520102Z"
    }
   },
   "outputs": [
    {
     "data": {
      "text/html": [
       "<div>\n",
       "<style scoped>\n",
       "    .dataframe tbody tr th:only-of-type {\n",
       "        vertical-align: middle;\n",
       "    }\n",
       "\n",
       "    .dataframe tbody tr th {\n",
       "        vertical-align: top;\n",
       "    }\n",
       "\n",
       "    .dataframe thead th {\n",
       "        text-align: right;\n",
       "    }\n",
       "</style>\n",
       "<table border=\"1\" class=\"dataframe\">\n",
       "  <thead>\n",
       "    <tr style=\"text-align: right;\">\n",
       "      <th></th>\n",
       "      <th>group</th>\n",
       "      <th>answers</th>\n",
       "      <th>gender</th>\n",
       "      <th>age</th>\n",
       "      <th>math_grade</th>\n",
       "      <th>overall_grade</th>\n",
       "    </tr>\n",
       "  </thead>\n",
       "  <tbody>\n",
       "    <tr>\n",
       "      <th>0</th>\n",
       "      <td>0.0</td>\n",
       "      <td>1.0</td>\n",
       "      <td>0.0</td>\n",
       "      <td>1.0</td>\n",
       "      <td>1.0</td>\n",
       "      <td>1.0</td>\n",
       "    </tr>\n",
       "    <tr>\n",
       "      <th>1</th>\n",
       "      <td>0.0</td>\n",
       "      <td>0.0</td>\n",
       "      <td>0.0</td>\n",
       "      <td>0.0</td>\n",
       "      <td>0.0</td>\n",
       "      <td>0.0</td>\n",
       "    </tr>\n",
       "    <tr>\n",
       "      <th>2</th>\n",
       "      <td>0.0</td>\n",
       "      <td>0.0</td>\n",
       "      <td>0.0</td>\n",
       "      <td>1.0</td>\n",
       "      <td>1.0</td>\n",
       "      <td>1.0</td>\n",
       "    </tr>\n",
       "    <tr>\n",
       "      <th>3</th>\n",
       "      <td>0.0</td>\n",
       "      <td>0.0</td>\n",
       "      <td>0.0</td>\n",
       "      <td>0.0</td>\n",
       "      <td>0.0</td>\n",
       "      <td>0.0</td>\n",
       "    </tr>\n",
       "    <tr>\n",
       "      <th>4</th>\n",
       "      <td>0.0</td>\n",
       "      <td>1.0</td>\n",
       "      <td>0.0</td>\n",
       "      <td>1.0</td>\n",
       "      <td>0.0</td>\n",
       "      <td>0.0</td>\n",
       "    </tr>\n",
       "    <tr>\n",
       "      <th>5</th>\n",
       "      <td>0.0</td>\n",
       "      <td>1.0</td>\n",
       "      <td>0.0</td>\n",
       "      <td>1.0</td>\n",
       "      <td>1.0</td>\n",
       "      <td>0.0</td>\n",
       "    </tr>\n",
       "  </tbody>\n",
       "</table>\n",
       "</div>"
      ],
      "text/plain": [
       "   group  answers  gender  age  math_grade  overall_grade\n",
       "0    0.0      1.0     0.0  1.0         1.0            1.0\n",
       "1    0.0      0.0     0.0  0.0         0.0            0.0\n",
       "2    0.0      0.0     0.0  1.0         1.0            1.0\n",
       "3    0.0      0.0     0.0  0.0         0.0            0.0\n",
       "4    0.0      1.0     0.0  1.0         0.0            0.0\n",
       "5    0.0      1.0     0.0  1.0         1.0            0.0"
      ]
     },
     "execution_count": 1083,
     "metadata": {},
     "output_type": "execute_result"
    }
   ],
   "source": [
    "dag[dag != 0] = 1\n",
    "dag.head(10)"
   ]
  },
  {
   "cell_type": "code",
   "execution_count": 1084,
   "metadata": {
    "ExecuteTime": {
     "end_time": "2020-04-29T09:24:10.225852Z",
     "start_time": "2020-04-29T09:24:10.211416Z"
    }
   },
   "outputs": [],
   "source": [
    "def show_graph_with_labels(adjacency_matrix, mylabels):\n",
    "    rows, cols = np.where(adjacency_matrix > 0)\n",
    "    couples = list(zip(rows.tolist(), cols.tolist()))\n",
    "    added_nodes= []\n",
    "    gr = nx.DiGraph()\n",
    "    for c in couples:\n",
    "        row = c[0]\n",
    "        col = c[1]\n",
    "        if row not in added_nodes:\n",
    "            gr.add_node(mylabels[row])\n",
    "            added_nodes.append(row)\n",
    "        if col not in added_nodes:\n",
    "            gr.add_node(mylabels[col])\n",
    "            added_nodes.append(col)\n",
    "        gr.add_edge(mylabels[row], mylabels[col])\n",
    "        \n",
    "    nx.draw(gr, node_size=2000, with_labels=True)\n",
    "    nx.write_gml(gr, data_path / 'last_dag.gml')\n",
    "    plt.show()"
   ]
  },
  {
   "cell_type": "code",
   "execution_count": 1085,
   "metadata": {
    "ExecuteTime": {
     "end_time": "2020-04-29T09:24:11.092344Z",
     "start_time": "2020-04-29T09:24:10.870829Z"
    }
   },
   "outputs": [
    {
     "data": {
      "image/png": "[encoded data removed]",
      "text/plain": [
       "<Figure size 864x576 with 1 Axes>"
      ]
     },
     "metadata": {},
     "output_type": "display_data"
    }
   ],
   "source": [
    "np.random.seed(9)\n",
    "plt.figure(figsize=(12, 8))\n",
    "labels_list = dag.columns.tolist()\n",
    "labels = dict(zip(range(len(labels_list)), labels_list))\n",
    "show_graph_with_labels(dag.values, labels)"
   ]
  },
  {
   "cell_type": "code",
   "execution_count": 973,
   "metadata": {
    "ExecuteTime": {
     "end_time": "2020-04-29T01:47:33.260265Z",
     "start_time": "2020-04-29T01:47:33.256478Z"
    }
   },
   "outputs": [],
   "source": [
    "dag = dag.drop(\"age\", axis=1)\n",
    "dag = dag.drop(3, axis=0)"
   ]
  },
  {
   "cell_type": "code",
   "execution_count": 974,
   "metadata": {
    "ExecuteTime": {
     "end_time": "2020-04-29T01:47:35.129199Z",
     "start_time": "2020-04-29T01:47:34.905008Z"
    }
   },
   "outputs": [
    {
     "data": {
      "image/png": "[encoded data removed]",
      "text/plain": [
       "<Figure size 864x576 with 1 Axes>"
      ]
     },
     "metadata": {},
     "output_type": "display_data"
    }
   ],
   "source": [
    "np.random.seed(9)\n",
    "plt.figure(figsize=(12, 8))\n",
    "labels_list = dag.columns.tolist()\n",
    "labels = dict(zip(range(len(labels_list)), labels_list))\n",
    "show_graph_with_labels(dag.values, labels)"
   ]
  },
  {
   "cell_type": "markdown",
   "metadata": {},
   "source": [
    "### Non-linear"
   ]
  },
  {
   "cell_type": "code",
   "execution_count": 975,
   "metadata": {
    "ExecuteTime": {
     "end_time": "2020-04-29T01:50:25.162453Z",
     "start_time": "2020-04-29T01:50:25.157419Z"
    }
   },
   "outputs": [],
   "source": [
    "data_path = Path(\"./data/\")\n",
    "dag_nonlinear = pd.read_csv(data_path /  \"dag_nonlinear.csv\", names=['group', 'answers', 'gender', 'age', 'math_grade', 'overall_grade'])"
   ]
  },
  {
   "cell_type": "code",
   "execution_count": 976,
   "metadata": {
    "ExecuteTime": {
     "end_time": "2020-04-29T01:50:25.831528Z",
     "start_time": "2020-04-29T01:50:25.822468Z"
    }
   },
   "outputs": [
    {
     "data": {
      "text/html": [
       "<div>\n",
       "<style scoped>\n",
       "    .dataframe tbody tr th:only-of-type {\n",
       "        vertical-align: middle;\n",
       "    }\n",
       "\n",
       "    .dataframe tbody tr th {\n",
       "        vertical-align: top;\n",
       "    }\n",
       "\n",
       "    .dataframe thead th {\n",
       "        text-align: right;\n",
       "    }\n",
       "</style>\n",
       "<table border=\"1\" class=\"dataframe\">\n",
       "  <thead>\n",
       "    <tr style=\"text-align: right;\">\n",
       "      <th></th>\n",
       "      <th>group</th>\n",
       "      <th>answers</th>\n",
       "      <th>gender</th>\n",
       "      <th>age</th>\n",
       "      <th>math_grade</th>\n",
       "      <th>overall_grade</th>\n",
       "    </tr>\n",
       "  </thead>\n",
       "  <tbody>\n",
       "    <tr>\n",
       "      <th>0</th>\n",
       "      <td>0.0</td>\n",
       "      <td>6.853067</td>\n",
       "      <td>0.0</td>\n",
       "      <td>1.561100</td>\n",
       "      <td>0.321146</td>\n",
       "      <td>0.0</td>\n",
       "    </tr>\n",
       "    <tr>\n",
       "      <th>1</th>\n",
       "      <td>0.0</td>\n",
       "      <td>0.000000</td>\n",
       "      <td>0.0</td>\n",
       "      <td>0.955253</td>\n",
       "      <td>0.000000</td>\n",
       "      <td>0.0</td>\n",
       "    </tr>\n",
       "    <tr>\n",
       "      <th>2</th>\n",
       "      <td>0.0</td>\n",
       "      <td>1.467087</td>\n",
       "      <td>0.0</td>\n",
       "      <td>1.387362</td>\n",
       "      <td>0.000000</td>\n",
       "      <td>0.0</td>\n",
       "    </tr>\n",
       "    <tr>\n",
       "      <th>3</th>\n",
       "      <td>0.0</td>\n",
       "      <td>0.000000</td>\n",
       "      <td>0.0</td>\n",
       "      <td>0.000000</td>\n",
       "      <td>0.000000</td>\n",
       "      <td>0.0</td>\n",
       "    </tr>\n",
       "    <tr>\n",
       "      <th>4</th>\n",
       "      <td>0.0</td>\n",
       "      <td>1.645148</td>\n",
       "      <td>0.0</td>\n",
       "      <td>2.357804</td>\n",
       "      <td>0.000000</td>\n",
       "      <td>0.0</td>\n",
       "    </tr>\n",
       "    <tr>\n",
       "      <th>5</th>\n",
       "      <td>0.0</td>\n",
       "      <td>2.602485</td>\n",
       "      <td>0.0</td>\n",
       "      <td>1.192602</td>\n",
       "      <td>1.623877</td>\n",
       "      <td>0.0</td>\n",
       "    </tr>\n",
       "  </tbody>\n",
       "</table>\n",
       "</div>"
      ],
      "text/plain": [
       "   group   answers  gender       age  math_grade  overall_grade\n",
       "0    0.0  6.853067     0.0  1.561100    0.321146            0.0\n",
       "1    0.0  0.000000     0.0  0.955253    0.000000            0.0\n",
       "2    0.0  1.467087     0.0  1.387362    0.000000            0.0\n",
       "3    0.0  0.000000     0.0  0.000000    0.000000            0.0\n",
       "4    0.0  1.645148     0.0  2.357804    0.000000            0.0\n",
       "5    0.0  2.602485     0.0  1.192602    1.623877            0.0"
      ]
     },
     "execution_count": 976,
     "metadata": {},
     "output_type": "execute_result"
    }
   ],
   "source": [
    "dag_nonlinear"
   ]
  },
  {
   "cell_type": "code",
   "execution_count": 977,
   "metadata": {
    "ExecuteTime": {
     "end_time": "2020-04-29T01:50:26.650806Z",
     "start_time": "2020-04-29T01:50:26.631297Z"
    }
   },
   "outputs": [
    {
     "data": {
      "text/html": [
       "<div>\n",
       "<style scoped>\n",
       "    .dataframe tbody tr th:only-of-type {\n",
       "        vertical-align: middle;\n",
       "    }\n",
       "\n",
       "    .dataframe tbody tr th {\n",
       "        vertical-align: top;\n",
       "    }\n",
       "\n",
       "    .dataframe thead th {\n",
       "        text-align: right;\n",
       "    }\n",
       "</style>\n",
       "<table border=\"1\" class=\"dataframe\">\n",
       "  <thead>\n",
       "    <tr style=\"text-align: right;\">\n",
       "      <th></th>\n",
       "      <th>group</th>\n",
       "      <th>answers</th>\n",
       "      <th>gender</th>\n",
       "      <th>age</th>\n",
       "      <th>math_grade</th>\n",
       "      <th>overall_grade</th>\n",
       "    </tr>\n",
       "  </thead>\n",
       "  <tbody>\n",
       "    <tr>\n",
       "      <th>0</th>\n",
       "      <td>0.0</td>\n",
       "      <td>1.0</td>\n",
       "      <td>0.0</td>\n",
       "      <td>1.0</td>\n",
       "      <td>1.0</td>\n",
       "      <td>0.0</td>\n",
       "    </tr>\n",
       "    <tr>\n",
       "      <th>1</th>\n",
       "      <td>0.0</td>\n",
       "      <td>0.0</td>\n",
       "      <td>0.0</td>\n",
       "      <td>1.0</td>\n",
       "      <td>0.0</td>\n",
       "      <td>0.0</td>\n",
       "    </tr>\n",
       "    <tr>\n",
       "      <th>2</th>\n",
       "      <td>0.0</td>\n",
       "      <td>1.0</td>\n",
       "      <td>0.0</td>\n",
       "      <td>1.0</td>\n",
       "      <td>0.0</td>\n",
       "      <td>0.0</td>\n",
       "    </tr>\n",
       "    <tr>\n",
       "      <th>3</th>\n",
       "      <td>0.0</td>\n",
       "      <td>0.0</td>\n",
       "      <td>0.0</td>\n",
       "      <td>0.0</td>\n",
       "      <td>0.0</td>\n",
       "      <td>0.0</td>\n",
       "    </tr>\n",
       "    <tr>\n",
       "      <th>4</th>\n",
       "      <td>0.0</td>\n",
       "      <td>1.0</td>\n",
       "      <td>0.0</td>\n",
       "      <td>1.0</td>\n",
       "      <td>0.0</td>\n",
       "      <td>0.0</td>\n",
       "    </tr>\n",
       "    <tr>\n",
       "      <th>5</th>\n",
       "      <td>0.0</td>\n",
       "      <td>1.0</td>\n",
       "      <td>0.0</td>\n",
       "      <td>1.0</td>\n",
       "      <td>1.0</td>\n",
       "      <td>0.0</td>\n",
       "    </tr>\n",
       "  </tbody>\n",
       "</table>\n",
       "</div>"
      ],
      "text/plain": [
       "   group  answers  gender  age  math_grade  overall_grade\n",
       "0    0.0      1.0     0.0  1.0         1.0            0.0\n",
       "1    0.0      0.0     0.0  1.0         0.0            0.0\n",
       "2    0.0      1.0     0.0  1.0         0.0            0.0\n",
       "3    0.0      0.0     0.0  0.0         0.0            0.0\n",
       "4    0.0      1.0     0.0  1.0         0.0            0.0\n",
       "5    0.0      1.0     0.0  1.0         1.0            0.0"
      ]
     },
     "execution_count": 977,
     "metadata": {},
     "output_type": "execute_result"
    }
   ],
   "source": [
    "dag_nonlinear[dag_nonlinear != 0] = 1\n",
    "dag_nonlinear.head(10)"
   ]
  },
  {
   "cell_type": "code",
   "execution_count": 978,
   "metadata": {
    "ExecuteTime": {
     "end_time": "2020-04-29T01:50:27.723392Z",
     "start_time": "2020-04-29T01:50:27.511335Z"
    }
   },
   "outputs": [
    {
     "data": {
      "image/png": "[encoded data removed]",
      "text/plain": [
       "<Figure size 864x576 with 1 Axes>"
      ]
     },
     "metadata": {},
     "output_type": "display_data"
    }
   ],
   "source": [
    "np.random.seed(9)\n",
    "plt.figure(figsize=(12, 8))\n",
    "labels_list = dag_nonlinear.columns.tolist()\n",
    "labels = dict(zip(range(len(labels_list)), labels_list))\n",
    "show_graph_with_labels(dag_nonlinear.values, labels)"
   ]
  },
  {
   "cell_type": "code",
   "execution_count": 979,
   "metadata": {
    "ExecuteTime": {
     "end_time": "2020-04-29T01:50:28.512079Z",
     "start_time": "2020-04-29T01:50:28.508543Z"
    }
   },
   "outputs": [],
   "source": [
    "dag_nonlinear = dag_nonlinear.drop(\"age\", axis=1)\n",
    "dag_nonlinear = dag_nonlinear.drop(3, axis=0)"
   ]
  },
  {
   "cell_type": "code",
   "execution_count": 1054,
   "metadata": {
    "ExecuteTime": {
     "end_time": "2020-04-29T02:59:52.481078Z",
     "start_time": "2020-04-29T02:59:52.256081Z"
    }
   },
   "outputs": [
    {
     "data": {
      "image/png": "[encoded data removed]",
      "text/plain": [
       "<Figure size 864x576 with 1 Axes>"
      ]
     },
     "metadata": {},
     "output_type": "display_data"
    }
   ],
   "source": [
    "np.random.seed(9)\n",
    "plt.figure(figsize=(12, 8))\n",
    "labels_list = dag_nonlinear.columns.tolist()\n",
    "labels = dict(zip(range(len(labels_list)), labels_list))\n",
    "show_graph_with_labels(dag_nonlinear.values, labels)"
   ]
  },
  {
   "cell_type": "code",
   "execution_count": 981,
   "metadata": {
    "ExecuteTime": {
     "end_time": "2020-04-29T01:50:38.895759Z",
     "start_time": "2020-04-29T01:50:38.681268Z"
    }
   },
   "outputs": [
    {
     "data": {
      "image/png": "[encoded data removed]",
      "text/plain": [
       "<Figure size 864x576 with 1 Axes>"
      ]
     },
     "metadata": {},
     "output_type": "display_data"
    }
   ],
   "source": [
    "np.random.seed(9)\n",
    "plt.figure(figsize=(12, 8))\n",
    "labels_list = dag.columns.tolist()\n",
    "labels = dict(zip(range(len(labels_list)), labels_list))\n",
    "show_graph_with_labels(dag.values, labels)"
   ]
  },
  {
   "cell_type": "markdown",
   "metadata": {},
   "source": [
    "## Checking the assumptions"
   ]
  },
  {
   "cell_type": "markdown",
   "metadata": {},
   "source": [
    "### gender"
   ]
  },
  {
   "cell_type": "code",
   "execution_count": 982,
   "metadata": {
    "ExecuteTime": {
     "end_time": "2020-04-29T01:51:03.963570Z",
     "start_time": "2020-04-29T01:51:03.959575Z"
    }
   },
   "outputs": [],
   "source": [
    "import scipy.stats as stats"
   ]
  },
  {
   "cell_type": "code",
   "execution_count": 983,
   "metadata": {
    "ExecuteTime": {
     "end_time": "2020-04-29T01:51:04.443942Z",
     "start_time": "2020-04-29T01:51:04.437018Z"
    }
   },
   "outputs": [],
   "source": [
    "def two_proprotions_test(success_a, size_a, success_b, size_b):\n",
    "    \"\"\"\n",
    "    A/B test for two proportions;\n",
    "    given a success a trial size of group A and B compute\n",
    "    its zscore and pvalue\n",
    "    \n",
    "    Parameters\n",
    "    ----------\n",
    "    success_a, success_b : int\n",
    "        Number of successes in each group\n",
    "        \n",
    "    size_a, size_b : int\n",
    "        Size, or number of observations in each group\n",
    "    \n",
    "    Returns\n",
    "    -------\n",
    "    zscore : float\n",
    "        test statistic for the two proportion z-test\n",
    "\n",
    "    pvalue : float\n",
    "        p-value for the two proportion z-test\n",
    "    \"\"\"\n",
    "    prop_a = success_a / size_a\n",
    "    prop_b = success_b / size_b\n",
    "    prop_pooled = (success_a + success_b) / (size_a + size_b)\n",
    "    var = prop_pooled * (1 - prop_pooled) * (1 / size_a + 1 / size_b)\n",
    "    zscore = np.abs(prop_b - prop_a) / np.sqrt(var)\n",
    "    one_side = 1 - stats.norm(loc = 0, scale = 1).cdf(zscore)\n",
    "    pvalue = one_side * 2\n",
    "    return {\n",
    "        \"z-score\": zscore,\n",
    "        \"p-value\": pvalue\n",
    "    }\n"
   ]
  },
  {
   "cell_type": "code",
   "execution_count": 985,
   "metadata": {
    "ExecuteTime": {
     "end_time": "2020-04-29T01:51:13.488603Z",
     "start_time": "2020-04-29T01:51:13.483910Z"
    }
   },
   "outputs": [],
   "source": [
    "gender_check = data_processed[['group', 'gender']]"
   ]
  },
  {
   "cell_type": "code",
   "execution_count": 986,
   "metadata": {
    "ExecuteTime": {
     "end_time": "2020-04-29T01:51:16.502946Z",
     "start_time": "2020-04-29T01:51:16.497078Z"
    }
   },
   "outputs": [
    {
     "data": {
      "text/plain": [
       "{'z-score': 0.17509322426058543, 'p-value': 0.8610063822855212}"
      ]
     },
     "execution_count": 986,
     "metadata": {},
     "output_type": "execute_result"
    }
   ],
   "source": [
    "group_a = gender_check[gender_check.group == 0]\n",
    "group_b = gender_check[gender_check.group == 1]\n",
    "two_proprotions_test(group_a.gender.sum(), group_a.shape[0],  group_b.gender.sum(), group_b.shape[0]) "
   ]
  },
  {
   "cell_type": "markdown",
   "metadata": {},
   "source": [
    "### Math Grade"
   ]
  },
  {
   "cell_type": "code",
   "execution_count": 987,
   "metadata": {
    "ExecuteTime": {
     "end_time": "2020-04-29T01:51:25.755405Z",
     "start_time": "2020-04-29T01:51:25.751684Z"
    }
   },
   "outputs": [],
   "source": [
    "import pymc3 as pm"
   ]
  },
  {
   "cell_type": "code",
   "execution_count": 988,
   "metadata": {
    "ExecuteTime": {
     "end_time": "2020-04-29T01:51:26.239752Z",
     "start_time": "2020-04-29T01:51:26.235102Z"
    }
   },
   "outputs": [],
   "source": [
    "grade_check = data_processed[['gender', 'math_grade']]"
   ]
  },
  {
   "cell_type": "code",
   "execution_count": 989,
   "metadata": {
    "ExecuteTime": {
     "end_time": "2020-04-29T01:51:26.776714Z",
     "start_time": "2020-04-29T01:51:26.769348Z"
    }
   },
   "outputs": [],
   "source": [
    "group_a = grade_check[grade_check.gender == 0]\n",
    "group_b = grade_check[grade_check.gender == 1]"
   ]
  },
  {
   "cell_type": "code",
   "execution_count": 990,
   "metadata": {
    "ExecuteTime": {
     "end_time": "2020-04-29T01:51:40.378321Z",
     "start_time": "2020-04-29T01:51:28.123428Z"
    },
    "scrolled": true
   },
   "outputs": [
    {
     "name": "stderr",
     "output_type": "stream",
     "text": [
      "Auto-assigning NUTS sampler...\n",
      "INFO:pymc3:Auto-assigning NUTS sampler...\n",
      "Initializing NUTS using jitter+adapt_diag...\n",
      "INFO:pymc3:Initializing NUTS using jitter+adapt_diag...\n",
      "Multiprocess sampling (4 chains in 4 jobs)\n",
      "INFO:pymc3:Multiprocess sampling (4 chains in 4 jobs)\n",
      "NUTS: [ν_minus_one, group2_std, group1_std, group2_mean, group1_mean]\n",
      "INFO:pymc3:NUTS: [ν_minus_one, group2_std, group1_std, group2_mean, group1_mean]\n",
      "Sampling 4 chains, 0 divergences: 100%|██████████| 22000/22000 [00:05<00:00, 3769.10draws/s]\n"
     ]
    }
   ],
   "source": [
    "mu_m = grade_check.math_grade.values.mean()\n",
    "mu_s = grade_check.math_grade.values.std() * 2\n",
    "\n",
    "sigma_low = 1\n",
    "sigma_high = 100\n",
    "\n",
    "with pm.Model() as model:\n",
    "    group_a_mean = pm.Normal('group1_mean', mu=mu_m, sd=mu_s)\n",
    "    group_b_mean = pm.Normal('group2_mean', mu=mu_m, sd=mu_s)\n",
    "    \n",
    "    group_a_std = pm.Uniform('group1_std', lower=sigma_low, upper=sigma_high)\n",
    "    group_b_std = pm.Uniform('group2_std', lower=sigma_low, upper=sigma_high)\n",
    "    \n",
    "    nu = pm.Exponential('ν_minus_one', 1/29.) + 1\n",
    "    \n",
    "    lambda_a = group_a_std**-2\n",
    "    lambda_b = group_b_std**-2\n",
    "\n",
    "    group_a_dist = pm.StudentT('drug', nu=nu, mu=group_a_mean, lam=lambda_a, observed=group_a.math_grade.values)\n",
    "    group_b_dist = pm.StudentT('placebo', nu=nu, mu=group_b_mean, lam=lambda_b, observed=group_b.math_grade.values)\n",
    "    \n",
    "    \n",
    "    diff_of_means = pm.Deterministic('difference of means', group_a_mean - group_b_mean)\n",
    "    diff_of_stds = pm.Deterministic('difference of stds', group_a_std - group_b_std)\n",
    "    effect_size = pm.Deterministic('effect size',\n",
    "                                   diff_of_means / np.sqrt((group_a_std**2 + group_b_std**2) / 2))\n",
    "    \n",
    "    trace = pm.sample(5000)"
   ]
  },
  {
   "cell_type": "code",
   "execution_count": 991,
   "metadata": {
    "ExecuteTime": {
     "end_time": "2020-04-29T01:51:43.016654Z",
     "start_time": "2020-04-29T01:51:40.561204Z"
    }
   },
   "outputs": [
    {
     "data": {
      "image/png": "[encoded data removed]",
      "text/plain": [
       "<Figure size 1152x288 with 3 Axes>"
      ]
     },
     "metadata": {
      "needs_background": "light"
     },
     "output_type": "display_data"
    }
   ],
   "source": [
    "pm.plot_posterior(trace, var_names=['difference of means','difference of stds', 'effect size'],\n",
    "                  ref_val=0,\n",
    "                  credible_interval=0.95,\n",
    "                  color='#87ceeb',\n",
    "                  figsize=(16, 4));"
   ]
  },
  {
   "cell_type": "code",
   "execution_count": 1099,
   "metadata": {
    "ExecuteTime": {
     "end_time": "2020-04-29T09:27:43.213322Z",
     "start_time": "2020-04-29T09:27:42.985739Z"
    }
   },
   "outputs": [
    {
     "data": {
      "image/png": "[encoded data removed]",
      "text/plain": [
       "<Figure size 864x576 with 1 Axes>"
      ]
     },
     "metadata": {},
     "output_type": "display_data"
    }
   ],
   "source": [
    "np.random.seed(9)\n",
    "plt.figure(figsize=(12, 8))\n",
    "labels_list = dag_nonlinear.columns.tolist()\n",
    "labels = dict(zip(range(len(labels_list)), labels_list))\n",
    "show_graph_with_labels(dag_nonlinear.values, labels)"
   ]
  },
  {
   "cell_type": "markdown",
   "metadata": {},
   "source": [
    "## Running the model"
   ]
  },
  {
   "cell_type": "code",
   "execution_count": 1100,
   "metadata": {
    "ExecuteTime": {
     "end_time": "2020-04-29T09:27:44.598736Z",
     "start_time": "2020-04-29T09:27:44.596711Z"
    }
   },
   "outputs": [],
   "source": [
    "import dowhy\n",
    "from dowhy import CausalModel\n",
    "import dowhy.datasets"
   ]
  },
  {
   "cell_type": "code",
   "execution_count": 1101,
   "metadata": {
    "ExecuteTime": {
     "end_time": "2020-04-29T09:27:44.878270Z",
     "start_time": "2020-04-29T09:27:44.870204Z"
    }
   },
   "outputs": [
    {
     "data": {
      "text/html": [
       "<div>\n",
       "<style scoped>\n",
       "    .dataframe tbody tr th:only-of-type {\n",
       "        vertical-align: middle;\n",
       "    }\n",
       "\n",
       "    .dataframe tbody tr th {\n",
       "        vertical-align: top;\n",
       "    }\n",
       "\n",
       "    .dataframe thead th {\n",
       "        text-align: right;\n",
       "    }\n",
       "</style>\n",
       "<table border=\"1\" class=\"dataframe\">\n",
       "  <thead>\n",
       "    <tr style=\"text-align: right;\">\n",
       "      <th></th>\n",
       "      <th>id</th>\n",
       "      <th>group</th>\n",
       "      <th>answers</th>\n",
       "      <th>gender</th>\n",
       "      <th>age</th>\n",
       "      <th>math_grade</th>\n",
       "      <th>overall_grade</th>\n",
       "      <th>propensity_scores</th>\n",
       "    </tr>\n",
       "  </thead>\n",
       "  <tbody>\n",
       "    <tr>\n",
       "      <th>0</th>\n",
       "      <td>3.0</td>\n",
       "      <td>0.0</td>\n",
       "      <td>14.0</td>\n",
       "      <td>1.0</td>\n",
       "      <td>24.0</td>\n",
       "      <td>6.0</td>\n",
       "      <td>0.0</td>\n",
       "      <td>0.258081</td>\n",
       "    </tr>\n",
       "    <tr>\n",
       "      <th>1</th>\n",
       "      <td>4.0</td>\n",
       "      <td>0.0</td>\n",
       "      <td>7.0</td>\n",
       "      <td>1.0</td>\n",
       "      <td>19.0</td>\n",
       "      <td>6.5</td>\n",
       "      <td>0.0</td>\n",
       "      <td>0.311802</td>\n",
       "    </tr>\n",
       "    <tr>\n",
       "      <th>2</th>\n",
       "      <td>5.0</td>\n",
       "      <td>0.0</td>\n",
       "      <td>9.0</td>\n",
       "      <td>1.0</td>\n",
       "      <td>23.0</td>\n",
       "      <td>7.0</td>\n",
       "      <td>0.0</td>\n",
       "      <td>0.313993</td>\n",
       "    </tr>\n",
       "    <tr>\n",
       "      <th>3</th>\n",
       "      <td>6.0</td>\n",
       "      <td>0.0</td>\n",
       "      <td>11.0</td>\n",
       "      <td>1.0</td>\n",
       "      <td>17.0</td>\n",
       "      <td>6.7</td>\n",
       "      <td>0.0</td>\n",
       "      <td>0.334922</td>\n",
       "    </tr>\n",
       "    <tr>\n",
       "      <th>4</th>\n",
       "      <td>7.0</td>\n",
       "      <td>0.0</td>\n",
       "      <td>11.0</td>\n",
       "      <td>0.0</td>\n",
       "      <td>21.0</td>\n",
       "      <td>6.8</td>\n",
       "      <td>0.0</td>\n",
       "      <td>0.322943</td>\n",
       "    </tr>\n",
       "  </tbody>\n",
       "</table>\n",
       "</div>"
      ],
      "text/plain": [
       "    id  group  answers  gender   age  math_grade  overall_grade  \\\n",
       "0  3.0    0.0     14.0     1.0  24.0         6.0            0.0   \n",
       "1  4.0    0.0      7.0     1.0  19.0         6.5            0.0   \n",
       "2  5.0    0.0      9.0     1.0  23.0         7.0            0.0   \n",
       "3  6.0    0.0     11.0     1.0  17.0         6.7            0.0   \n",
       "4  7.0    0.0     11.0     0.0  21.0         6.8            0.0   \n",
       "\n",
       "   propensity_scores  \n",
       "0           0.258081  \n",
       "1           0.311802  \n",
       "2           0.313993  \n",
       "3           0.334922  \n",
       "4           0.322943  "
      ]
     },
     "execution_count": 1101,
     "metadata": {},
     "output_type": "execute_result"
    }
   ],
   "source": [
    "data_processed.head()"
   ]
  },
  {
   "cell_type": "code",
   "execution_count": 1102,
   "metadata": {
    "ExecuteTime": {
     "end_time": "2020-04-29T09:27:45.220580Z",
     "start_time": "2020-04-29T09:27:45.215223Z"
    }
   },
   "outputs": [
    {
     "name": "stderr",
     "output_type": "stream",
     "text": [
      "INFO:dowhy.causal_graph:If this is observed data (not from a randomized experiment), there might always be missing confounders. Adding a node named \"Unobserved Confounders\" to reflect this.\n",
      "INFO:dowhy.causal_model:Model to find the causal effect of treatment ['group'] on outcome ['answers']\n"
     ]
    }
   ],
   "source": [
    "data_processed_new  = data_processed.copy()\n",
    "data_processed_new.group = data_processed_new.group.astype('bool')\n",
    "model=CausalModel(\n",
    "        data = data_processed_new,\n",
    "        treatment=\"group\",\n",
    "        outcome=\"answers\",\n",
    "        graph=\"data/last_dag.gml\"\n",
    "        )"
   ]
  },
  {
   "cell_type": "code",
   "execution_count": 1103,
   "metadata": {
    "ExecuteTime": {
     "end_time": "2020-04-29T09:27:45.835106Z",
     "start_time": "2020-04-29T09:27:45.774437Z"
    }
   },
   "outputs": [],
   "source": [
    "model.view_model();"
   ]
  },
  {
   "cell_type": "code",
   "execution_count": 1104,
   "metadata": {
    "ExecuteTime": {
     "end_time": "2020-04-29T09:27:46.576532Z",
     "start_time": "2020-04-29T09:27:46.570255Z"
    }
   },
   "outputs": [
    {
     "name": "stderr",
     "output_type": "stream",
     "text": [
      "INFO:dowhy.causal_identifier:Common causes of treatment and outcome:['U']\n",
      "WARNING:dowhy.causal_identifier:If this is observed data (not from a randomized experiment), there might always be missing confounders. Causal effect cannot be identified perfectly.\n",
      "INFO:dowhy.causal_identifier:Continuing by ignoring these unobserved confounders because proceed_when_unidentifiable flag is True.\n",
      "INFO:dowhy.causal_identifier:Instrumental variables for treatment and outcome:[]\n"
     ]
    }
   ],
   "source": [
    "identified_estimand = model.identify_effect(proceed_when_unidentifiable=True)"
   ]
  },
  {
   "cell_type": "code",
   "execution_count": 1113,
   "metadata": {
    "ExecuteTime": {
     "end_time": "2020-04-29T09:30:53.388749Z",
     "start_time": "2020-04-29T09:30:53.381463Z"
    }
   },
   "outputs": [
    {
     "name": "stderr",
     "output_type": "stream",
     "text": [
      "INFO:dowhy.causal_estimator:INFO: Using Linear Regression Estimator\n",
      "INFO:dowhy.causal_estimator:b: answers~group+group*overall_grade+group*math_grade+group*gender\n"
     ]
    }
   ],
   "source": [
    "estimate = model.estimate_effect(identified_estimand,\n",
    "                                 method_name=\"backdoor.linear_regression\")"
   ]
  },
  {
   "cell_type": "code",
   "execution_count": 1114,
   "metadata": {
    "ExecuteTime": {
     "end_time": "2020-04-29T09:30:54.028346Z",
     "start_time": "2020-04-29T09:30:54.025885Z"
    }
   },
   "outputs": [
    {
     "name": "stdout",
     "output_type": "stream",
     "text": [
      "*** Causal Estimate ***\n",
      "\n",
      "## Target estimand\n",
      "Estimand type: nonparametric-ate\n",
      "### Estimand : 1\n",
      "Estimand name: backdoor\n",
      "Estimand expression:\n",
      "   d                          \n",
      "────────(Expectation(answers))\n",
      "d[group]                      \n",
      "Estimand assumption 1, Unconfoundedness: If U→{group} and U→answers then P(answers|group,,U) = P(answers|group,)\n",
      "### Estimand : 2\n",
      "Estimand name: iv\n",
      "No such variable found!\n",
      "\n",
      "## Realized estimand\n",
      "b: answers~group+group*overall_grade+group*math_grade+group*gender\n",
      "## Estimate\n",
      "Value: 7.15406872639184\n",
      "\n"
     ]
    }
   ],
   "source": [
    "print(estimate)"
   ]
  },
  {
   "cell_type": "code",
   "execution_count": 1131,
   "metadata": {
    "ExecuteTime": {
     "end_time": "2020-04-29T09:33:54.781238Z",
     "start_time": "2020-04-29T09:33:54.760055Z"
    }
   },
   "outputs": [],
   "source": [
    "data_model = data_processed.copy()\n",
    "data_model['gr_math'] = data_model['group']*data_model['math_grade']\n",
    "data_model['gr_gender'] = data_model['group']*data_model['gender']\n",
    "data_model['gr_overall'] = data_model['group']*data_model['overall_grade']\n",
    "data_model['gr_age'] = data_model['group']*data_model['age']\n",
    "data_model['gr_mix'] = data_model['group']*data_model['overall_grade']*data_model['math_grade']"
   ]
  },
  {
   "cell_type": "code",
   "execution_count": 1132,
   "metadata": {
    "ExecuteTime": {
     "end_time": "2020-04-29T09:33:57.986644Z",
     "start_time": "2020-04-29T09:33:57.967534Z"
    }
   },
   "outputs": [
    {
     "data": {
      "text/html": [
       "<table class=\"simpletable\">\n",
       "<caption>OLS Regression Results</caption>\n",
       "<tr>\n",
       "  <th>Dep. Variable:</th>         <td>answers</td>     <th>  R-squared (uncentered):</th>      <td>   0.918</td>\n",
       "</tr>\n",
       "<tr>\n",
       "  <th>Model:</th>                   <td>OLS</td>       <th>  Adj. R-squared (uncentered):</th> <td>   0.917</td>\n",
       "</tr>\n",
       "<tr>\n",
       "  <th>Method:</th>             <td>Least Squares</td>  <th>  F-statistic:       </th>          <td>   2048.</td>\n",
       "</tr>\n",
       "<tr>\n",
       "  <th>Date:</th>             <td>Wed, 29 Apr 2020</td> <th>  Prob (F-statistic):</th>           <td>  0.00</td> \n",
       "</tr>\n",
       "<tr>\n",
       "  <th>Time:</th>                 <td>11:33:57</td>     <th>  Log-Likelihood:    </th>          <td> -2863.4</td>\n",
       "</tr>\n",
       "<tr>\n",
       "  <th>No. Observations:</th>      <td>   921</td>      <th>  AIC:               </th>          <td>   5737.</td>\n",
       "</tr>\n",
       "<tr>\n",
       "  <th>Df Residuals:</th>          <td>   916</td>      <th>  BIC:               </th>          <td>   5761.</td>\n",
       "</tr>\n",
       "<tr>\n",
       "  <th>Df Model:</th>              <td>     5</td>      <th>                     </th>              <td> </td>   \n",
       "</tr>\n",
       "<tr>\n",
       "  <th>Covariance Type:</th>      <td>nonrobust</td>    <th>                     </th>              <td> </td>   \n",
       "</tr>\n",
       "</table>\n",
       "<table class=\"simpletable\">\n",
       "<tr>\n",
       "       <td></td>         <th>coef</th>     <th>std err</th>      <th>t</th>      <th>P>|t|</th>  <th>[0.025</th>    <th>0.975]</th>  \n",
       "</tr>\n",
       "<tr>\n",
       "  <th>Intercept</th>  <td>   11.8321</td> <td>    0.231</td> <td>   51.244</td> <td> 0.000</td> <td>   11.379</td> <td>   12.285</td>\n",
       "</tr>\n",
       "<tr>\n",
       "  <th>group</th>      <td>    7.1541</td> <td>    1.847</td> <td>    3.874</td> <td> 0.000</td> <td>    3.530</td> <td>   10.778</td>\n",
       "</tr>\n",
       "<tr>\n",
       "  <th>gr_math</th>    <td>    0.3742</td> <td>    0.281</td> <td>    1.331</td> <td> 0.183</td> <td>   -0.177</td> <td>    0.926</td>\n",
       "</tr>\n",
       "<tr>\n",
       "  <th>gr_overall</th> <td>    2.0139</td> <td>    0.564</td> <td>    3.569</td> <td> 0.000</td> <td>    0.907</td> <td>    3.121</td>\n",
       "</tr>\n",
       "<tr>\n",
       "  <th>gr_gender</th>  <td>    0.0201</td> <td>    0.585</td> <td>    0.034</td> <td> 0.973</td> <td>   -1.128</td> <td>    1.168</td>\n",
       "</tr>\n",
       "</table>\n",
       "<table class=\"simpletable\">\n",
       "<tr>\n",
       "  <th>Omnibus:</th>       <td>147.840</td> <th>  Durbin-Watson:     </th> <td>   1.838</td>\n",
       "</tr>\n",
       "<tr>\n",
       "  <th>Prob(Omnibus):</th> <td> 0.000</td>  <th>  Jarque-Bera (JB):  </th> <td> 316.673</td>\n",
       "</tr>\n",
       "<tr>\n",
       "  <th>Skew:</th>          <td>-0.908</td>  <th>  Prob(JB):          </th> <td>1.72e-69</td>\n",
       "</tr>\n",
       "<tr>\n",
       "  <th>Kurtosis:</th>      <td> 5.225</td>  <th>  Cond. No.          </th> <td>    54.4</td>\n",
       "</tr>\n",
       "</table><br/><br/>Warnings:<br/>[1] Standard Errors assume that the covariance matrix of the errors is correctly specified."
      ],
      "text/plain": [
       "<class 'statsmodels.iolib.summary.Summary'>\n",
       "\"\"\"\n",
       "                                 OLS Regression Results                                \n",
       "=======================================================================================\n",
       "Dep. Variable:                answers   R-squared (uncentered):                   0.918\n",
       "Model:                            OLS   Adj. R-squared (uncentered):              0.917\n",
       "Method:                 Least Squares   F-statistic:                              2048.\n",
       "Date:                Wed, 29 Apr 2020   Prob (F-statistic):                        0.00\n",
       "Time:                        11:33:57   Log-Likelihood:                         -2863.4\n",
       "No. Observations:                 921   AIC:                                      5737.\n",
       "Df Residuals:                     916   BIC:                                      5761.\n",
       "Df Model:                           5                                                  \n",
       "Covariance Type:            nonrobust                                                  \n",
       "==============================================================================\n",
       "                 coef    std err          t      P>|t|      [0.025      0.975]\n",
       "------------------------------------------------------------------------------\n",
       "Intercept     11.8321      0.231     51.244      0.000      11.379      12.285\n",
       "group          7.1541      1.847      3.874      0.000       3.530      10.778\n",
       "gr_math        0.3742      0.281      1.331      0.183      -0.177       0.926\n",
       "gr_overall     2.0139      0.564      3.569      0.000       0.907       3.121\n",
       "gr_gender      0.0201      0.585      0.034      0.973      -1.128       1.168\n",
       "==============================================================================\n",
       "Omnibus:                      147.840   Durbin-Watson:                   1.838\n",
       "Prob(Omnibus):                  0.000   Jarque-Bera (JB):              316.673\n",
       "Skew:                          -0.908   Prob(JB):                     1.72e-69\n",
       "Kurtosis:                       5.225   Cond. No.                         54.4\n",
       "==============================================================================\n",
       "\n",
       "Warnings:\n",
       "[1] Standard Errors assume that the covariance matrix of the errors is correctly specified.\n",
       "\"\"\""
      ]
     },
     "execution_count": 1132,
     "metadata": {},
     "output_type": "execute_result"
    }
   ],
   "source": [
    "y, X = dmatrices('answers ~  group + gr_math + gr_overall + gr_gender', data=data_model, return_type='dataframe')\n",
    "mod = sm.OLS(y, X, hasconst=False) \n",
    "res = mod.fit()\n",
    "res.summary()"
   ]
  },
  {
   "cell_type": "markdown",
   "metadata": {},
   "source": [
    "## Propensity score matching"
   ]
  },
  {
   "cell_type": "code",
   "execution_count": 1118,
   "metadata": {
    "ExecuteTime": {
     "end_time": "2020-04-29T09:31:17.779261Z",
     "start_time": "2020-04-29T09:31:17.777095Z"
    }
   },
   "outputs": [],
   "source": [
    "from sklearn.linear_model import LogisticRegression\n",
    "import numpy as np"
   ]
  },
  {
   "cell_type": "code",
   "execution_count": 1119,
   "metadata": {
    "ExecuteTime": {
     "end_time": "2020-04-29T09:31:18.200895Z",
     "start_time": "2020-04-29T09:31:18.195039Z"
    }
   },
   "outputs": [],
   "source": [
    "X, y = data_model[['gender', 'math_grade', 'overall_grade', 'age']].values, data_processed['group'].values"
   ]
  },
  {
   "cell_type": "code",
   "execution_count": 1120,
   "metadata": {
    "ExecuteTime": {
     "end_time": "2020-04-29T09:31:18.456844Z",
     "start_time": "2020-04-29T09:31:18.454932Z"
    }
   },
   "outputs": [],
   "source": [
    "indices = np.arange(0, X.shape[0])\n",
    "np.random.shuffle(indices)"
   ]
  },
  {
   "cell_type": "code",
   "execution_count": 1121,
   "metadata": {
    "ExecuteTime": {
     "end_time": "2020-04-29T09:31:18.670364Z",
     "start_time": "2020-04-29T09:31:18.665308Z"
    }
   },
   "outputs": [],
   "source": [
    "clf = LogisticRegression(random_state=0).fit(X[indices, :], y[indices])\n",
    "propensity_scores = clf.predict_proba(X)[:, 1]"
   ]
  },
  {
   "cell_type": "code",
   "execution_count": 1122,
   "metadata": {
    "ExecuteTime": {
     "end_time": "2020-04-29T09:31:19.495345Z",
     "start_time": "2020-04-29T09:31:19.118322Z"
    }
   },
   "outputs": [
    {
     "data": {
      "image/png": "[encoded data removed]",
      "text/plain": [
       "<Figure size 1152x864 with 1 Axes>"
      ]
     },
     "metadata": {
      "needs_background": "light"
     },
     "output_type": "display_data"
    }
   ],
   "source": [
    "plt.figure(figsize=(16, 12))\n",
    "label1_ix = np.where(y == 1)[0]\n",
    "label0_ix = np.where(y== 0)[0]\n",
    "sns.distplot(propensity_scores[label1_ix], label='Group 1')\n",
    "sns.distplot(propensity_scores[label0_ix], label='Group 0')\n",
    "plt.legend(prop={'size': 12});"
   ]
  },
  {
   "cell_type": "code",
   "execution_count": 1123,
   "metadata": {
    "ExecuteTime": {
     "end_time": "2020-04-29T09:31:19.702378Z",
     "start_time": "2020-04-29T09:31:19.701047Z"
    }
   },
   "outputs": [],
   "source": [
    "# propensity_scores = np.hstack((propensity_scores, propensity_scores))\n",
    "# propensity_scores"
   ]
  },
  {
   "cell_type": "code",
   "execution_count": 1124,
   "metadata": {
    "ExecuteTime": {
     "end_time": "2020-04-29T09:31:20.169703Z",
     "start_time": "2020-04-29T09:31:20.150433Z"
    }
   },
   "outputs": [
    {
     "data": {
      "image/png": "[encoded data removed]",
      "text/latex": [
       "$\\displaystyle \\left( \\left( 921, \\  12\\right), \\  \\left( 921\\right)\\right)$"
      ],
      "text/plain": [
       "((921, 12), (921,))"
      ]
     },
     "execution_count": 1124,
     "metadata": {},
     "output_type": "execute_result"
    }
   ],
   "source": [
    "data_model.shape, propensity_scores.shape"
   ]
  },
  {
   "cell_type": "code",
   "execution_count": 1125,
   "metadata": {
    "ExecuteTime": {
     "end_time": "2020-04-29T09:31:20.418687Z",
     "start_time": "2020-04-29T09:31:20.416691Z"
    }
   },
   "outputs": [],
   "source": [
    "data_model['propensity_scores'] = propensity_scores"
   ]
  },
  {
   "cell_type": "code",
   "execution_count": 1126,
   "metadata": {
    "ExecuteTime": {
     "end_time": "2020-04-29T09:31:20.903378Z",
     "start_time": "2020-04-29T09:31:20.625148Z"
    }
   },
   "outputs": [],
   "source": [
    "group_1 = data_model[(data_processed.group==1)]\n",
    "group_0 = data_model[(data_processed.group==0)]\n",
    "data_matched_status = group_1.copy()\n",
    "prop_scores = group_0.propensity_scores.values\n",
    "for index, row in group_1.iterrows():\n",
    "    index = np.argmin(np.abs(prop_scores-row['propensity_scores']))\n",
    "    data_matched_status = data_matched_status.append(group_0.iloc[index, :])\n",
    "    "
   ]
  },
  {
   "cell_type": "code",
   "execution_count": 1127,
   "metadata": {
    "ExecuteTime": {
     "end_time": "2020-04-29T09:31:21.110089Z",
     "start_time": "2020-04-29T09:31:21.108086Z"
    }
   },
   "outputs": [],
   "source": [
    "data_matched = data_matched_status.copy()#pd.concat([data_matched_status0, data_matched_status1])"
   ]
  },
  {
   "cell_type": "code",
   "execution_count": 1128,
   "metadata": {
    "ExecuteTime": {
     "end_time": "2020-04-29T09:31:21.466890Z",
     "start_time": "2020-04-29T09:31:21.454299Z"
    }
   },
   "outputs": [
    {
     "data": {
      "image/png": "[encoded data removed]",
      "text/latex": [
       "$\\displaystyle \\left( 734, \\  12\\right)$"
      ],
      "text/plain": [
       "(734, 12)"
      ]
     },
     "execution_count": 1128,
     "metadata": {},
     "output_type": "execute_result"
    }
   ],
   "source": [
    "data_matched.shape"
   ]
  },
  {
   "cell_type": "code",
   "execution_count": 1130,
   "metadata": {
    "ExecuteTime": {
     "end_time": "2020-04-29T09:31:39.765596Z",
     "start_time": "2020-04-29T09:31:39.750934Z"
    }
   },
   "outputs": [
    {
     "data": {
      "text/html": [
       "<table class=\"simpletable\">\n",
       "<caption>OLS Regression Results</caption>\n",
       "<tr>\n",
       "  <th>Dep. Variable:</th>         <td>answers</td>     <th>  R-squared (uncentered):</th>      <td>   0.917</td>\n",
       "</tr>\n",
       "<tr>\n",
       "  <th>Model:</th>                   <td>OLS</td>       <th>  Adj. R-squared (uncentered):</th> <td>   0.916</td>\n",
       "</tr>\n",
       "<tr>\n",
       "  <th>Method:</th>             <td>Least Squares</td>  <th>  F-statistic:       </th>          <td>   4021.</td>\n",
       "</tr>\n",
       "<tr>\n",
       "  <th>Date:</th>             <td>Wed, 29 Apr 2020</td> <th>  Prob (F-statistic):</th>           <td>  0.00</td> \n",
       "</tr>\n",
       "<tr>\n",
       "  <th>Time:</th>                 <td>11:31:39</td>     <th>  Log-Likelihood:    </th>          <td> -2337.0</td>\n",
       "</tr>\n",
       "<tr>\n",
       "  <th>No. Observations:</th>      <td>   734</td>      <th>  AIC:               </th>          <td>   4678.</td>\n",
       "</tr>\n",
       "<tr>\n",
       "  <th>Df Residuals:</th>          <td>   732</td>      <th>  BIC:               </th>          <td>   4687.</td>\n",
       "</tr>\n",
       "<tr>\n",
       "  <th>Df Model:</th>              <td>     2</td>      <th>                     </th>              <td> </td>   \n",
       "</tr>\n",
       "<tr>\n",
       "  <th>Covariance Type:</th>      <td>nonrobust</td>    <th>                     </th>              <td> </td>   \n",
       "</tr>\n",
       "</table>\n",
       "<table class=\"simpletable\">\n",
       "<tr>\n",
       "      <td></td>         <th>coef</th>     <th>std err</th>      <th>t</th>      <th>P>|t|</th>  <th>[0.025</th>    <th>0.975]</th>  \n",
       "</tr>\n",
       "<tr>\n",
       "  <th>Intercept</th> <td>   11.8311</td> <td>    0.305</td> <td>   38.748</td> <td> 0.000</td> <td>   11.232</td> <td>   12.431</td>\n",
       "</tr>\n",
       "<tr>\n",
       "  <th>group</th>     <td>   12.8610</td> <td>    0.432</td> <td>   29.784</td> <td> 0.000</td> <td>   12.013</td> <td>   13.709</td>\n",
       "</tr>\n",
       "</table>\n",
       "<table class=\"simpletable\">\n",
       "<tr>\n",
       "  <th>Omnibus:</th>       <td>117.351</td> <th>  Durbin-Watson:     </th> <td>   1.947</td>\n",
       "</tr>\n",
       "<tr>\n",
       "  <th>Prob(Omnibus):</th> <td> 0.000</td>  <th>  Jarque-Bera (JB):  </th> <td> 230.588</td>\n",
       "</tr>\n",
       "<tr>\n",
       "  <th>Skew:</th>          <td>-0.926</td>  <th>  Prob(JB):          </th> <td>8.48e-51</td>\n",
       "</tr>\n",
       "<tr>\n",
       "  <th>Kurtosis:</th>      <td> 5.027</td>  <th>  Cond. No.          </th> <td>    2.62</td>\n",
       "</tr>\n",
       "</table><br/><br/>Warnings:<br/>[1] Standard Errors assume that the covariance matrix of the errors is correctly specified."
      ],
      "text/plain": [
       "<class 'statsmodels.iolib.summary.Summary'>\n",
       "\"\"\"\n",
       "                                 OLS Regression Results                                \n",
       "=======================================================================================\n",
       "Dep. Variable:                answers   R-squared (uncentered):                   0.917\n",
       "Model:                            OLS   Adj. R-squared (uncentered):              0.916\n",
       "Method:                 Least Squares   F-statistic:                              4021.\n",
       "Date:                Wed, 29 Apr 2020   Prob (F-statistic):                        0.00\n",
       "Time:                        11:31:39   Log-Likelihood:                         -2337.0\n",
       "No. Observations:                 734   AIC:                                      4678.\n",
       "Df Residuals:                     732   BIC:                                      4687.\n",
       "Df Model:                           2                                                  \n",
       "Covariance Type:            nonrobust                                                  \n",
       "==============================================================================\n",
       "                 coef    std err          t      P>|t|      [0.025      0.975]\n",
       "------------------------------------------------------------------------------\n",
       "Intercept     11.8311      0.305     38.748      0.000      11.232      12.431\n",
       "group         12.8610      0.432     29.784      0.000      12.013      13.709\n",
       "==============================================================================\n",
       "Omnibus:                      117.351   Durbin-Watson:                   1.947\n",
       "Prob(Omnibus):                  0.000   Jarque-Bera (JB):              230.588\n",
       "Skew:                          -0.926   Prob(JB):                     8.48e-51\n",
       "Kurtosis:                       5.027   Cond. No.                         2.62\n",
       "==============================================================================\n",
       "\n",
       "Warnings:\n",
       "[1] Standard Errors assume that the covariance matrix of the errors is correctly specified.\n",
       "\"\"\""
      ]
     },
     "execution_count": 1130,
     "metadata": {},
     "output_type": "execute_result"
    }
   ],
   "source": [
    "y, X = dmatrices('answers ~ group', data=data_matched, return_type='dataframe')\n",
    "mod = sm.OLS(y, X, hasconst=False) \n",
    "res = mod.fit()\n",
    "res.summary()"
   ]
  },
  {
   "cell_type": "code",
   "execution_count": null,
   "metadata": {},
   "outputs": [],
   "source": []
  },
  {
   "cell_type": "code",
   "execution_count": null,
   "metadata": {},
   "outputs": [],
   "source": []
  }
 ],
 "metadata": {
  "kernelspec": {
   "display_name": "Python 3",
   "language": "python",
   "name": "python3"
  },
  "language_info": {
   "codemirror_mode": {
    "name": "ipython",
    "version": 3
   },
   "file_extension": ".py",
   "mimetype": "text/x-python",
   "name": "python",
   "nbconvert_exporter": "python",
   "pygments_lexer": "ipython3",
   "version": "3.7.3"
  },
  "toc": {
   "base_numbering": 1,
   "nav_menu": {},
   "number_sections": true,
   "sideBar": true,
   "skip_h1_title": false,
   "title_cell": "Table of Contents",
   "title_sidebar": "Contents",
   "toc_cell": false,
   "toc_position": {},
   "toc_section_display": true,
   "toc_window_display": true
  },
  "varInspector": {
   "cols": {
    "lenName": 16,
    "lenType": 16,
    "lenVar": 40
   },
   "kernels_config": {
    "python": {
     "delete_cmd_postfix": "",
     "delete_cmd_prefix": "del ",
     "library": "var_list.py",
     "varRefreshCmd": "print(var_dic_list())"
    },
    "r": {
     "delete_cmd_postfix": ") ",
     "delete_cmd_prefix": "rm(",
     "library": "var_list.r",
     "varRefreshCmd": "cat(var_dic_list()) "
    }
   },
   "types_to_exclude": [
    "module",
    "function",
    "builtin_function_or_method",
    "instance",
    "_Feature"
   ],
   "window_display": false
  }
 },
 "nbformat": 4,
 "nbformat_minor": 2
}
