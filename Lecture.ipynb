{
 "cells": [
  {
   "cell_type": "markdown",
   "id": "23cf73d8-b9d4-476b-b5ad-6d90211286ad",
   "metadata": {},
   "source": [
    "# Learning the Structure"
   ]
  },
  {
   "cell_type": "markdown",
   "id": "12e11c54-b1d8-41e1-9ce7-1117105c2603",
   "metadata": {},
   "source": [
    "### Basic Structures\n",
    "\n",
    "You have identified 3 building structures for the DAG"
   ]
  },
  {
   "cell_type": "markdown",
   "id": "7cdc74a8-5a43-4955-ade2-00b1d84f2f20",
   "metadata": {},
   "source": []
  }
 ],
 "metadata": {
  "kernelspec": {
   "display_name": "Python 3 (ipykernel)",
   "language": "python",
   "name": "python3"
  },
  "language_info": {
   "codemirror_mode": {
    "name": "ipython",
    "version": 3
   },
   "file_extension": ".py",
   "mimetype": "text/x-python",
   "name": "python",
   "nbconvert_exporter": "python",
   "pygments_lexer": "ipython3",
   "version": "3.9.10"
  }
 },
 "nbformat": 4,
 "nbformat_minor": 5
}
