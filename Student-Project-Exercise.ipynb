{
 "cells": [
  {
   "cell_type": "code",
   "execution_count": 88,
   "id": "2448e3c4-2083-456a-a30e-3d784f192531",
   "metadata": {},
   "outputs": [],
   "source": [
    "import numpy as np\n",
    "import pandas as pd\n",
    "import seaborn as sns\n",
    "\n",
    "import matplotlib.pyplot as plt\n",
    "import statsmodels.api as sm\n",
    "\n",
    "from pathlib import Path\n",
    "from patsy import dmatrices\n",
    "\n",
    "from notears import nonlinear, linear, utils\n",
    "from graphviz import Digraph\n",
    "\n",
    "sns.set_style(\"whitegrid\")\n",
    "plt.rcParams['figure.figsize'] = (12, 8)"
   ]
  },
  {
   "cell_type": "markdown",
   "id": "6aba0971-f138-4c36-854f-957bb352ee24",
   "metadata": {},
   "source": [
    "## Description\n",
    "\n",
    "In this exercise you will work on the lighter version of the [Student Performance Data Set](https://archive.ics.uci.edu/ml/datasets/Student+Performance#) published in the [UCI Machine Learning Repository](http://archive.ics.uci.edu/ml/index.php).\n",
    "\n",
    "We select only the subset of the columns:\n",
    "\n",
    "1. address - student's home address type (binary: 'U' - urban or 'R' - rural)\n",
    "2. higher - wants to take higher education (binary: yes or no)\n",
    "3. internet - Internet access at home (binary: yes or no)\n",
    "4. reason - reason to choose this school (nominal: close to 'home', school 'reputation', 'course' preference or 'other')\n",
    "5. G1 - first period grade (numeric: from 0 to 20)\n",
    "6. absences - number of school absences (numeric: from 0 to 93)\n",
    "\n",
    "Here we would like to try to measure the `ACE`(Average Causal Effect) of the `absences` on the `G1` from the observational data."
   ]
  },
  {
   "cell_type": "markdown",
   "id": "cd67ddf6-48b1-46e8-9549-7e84d7b33425",
   "metadata": {},
   "source": [
    "### Loading Data and Processing Data"
   ]
  },
  {
   "cell_type": "code",
   "execution_count": 92,
   "id": "75064552-2ec6-421e-80a3-986f913e5bf9",
   "metadata": {},
   "outputs": [
    {
     "data": {
      "text/html": [
       "<div>\n",
       "<style scoped>\n",
       "    .dataframe tbody tr th:only-of-type {\n",
       "        vertical-align: middle;\n",
       "    }\n",
       "\n",
       "    .dataframe tbody tr th {\n",
       "        vertical-align: top;\n",
       "    }\n",
       "\n",
       "    .dataframe thead th {\n",
       "        text-align: right;\n",
       "    }\n",
       "</style>\n",
       "<table border=\"1\" class=\"dataframe\">\n",
       "  <thead>\n",
       "    <tr style=\"text-align: right;\">\n",
       "      <th></th>\n",
       "      <th>absences</th>\n",
       "      <th>address</th>\n",
       "      <th>internet</th>\n",
       "      <th>reason</th>\n",
       "      <th>higher</th>\n",
       "      <th>G1</th>\n",
       "    </tr>\n",
       "  </thead>\n",
       "  <tbody>\n",
       "    <tr>\n",
       "      <th>0</th>\n",
       "      <td>4</td>\n",
       "      <td>U</td>\n",
       "      <td>no</td>\n",
       "      <td>course</td>\n",
       "      <td>yes</td>\n",
       "      <td>0</td>\n",
       "    </tr>\n",
       "    <tr>\n",
       "      <th>1</th>\n",
       "      <td>2</td>\n",
       "      <td>U</td>\n",
       "      <td>yes</td>\n",
       "      <td>course</td>\n",
       "      <td>yes</td>\n",
       "      <td>9</td>\n",
       "    </tr>\n",
       "    <tr>\n",
       "      <th>2</th>\n",
       "      <td>6</td>\n",
       "      <td>U</td>\n",
       "      <td>yes</td>\n",
       "      <td>other</td>\n",
       "      <td>yes</td>\n",
       "      <td>12</td>\n",
       "    </tr>\n",
       "    <tr>\n",
       "      <th>3</th>\n",
       "      <td>0</td>\n",
       "      <td>U</td>\n",
       "      <td>yes</td>\n",
       "      <td>home</td>\n",
       "      <td>yes</td>\n",
       "      <td>14</td>\n",
       "    </tr>\n",
       "    <tr>\n",
       "      <th>4</th>\n",
       "      <td>0</td>\n",
       "      <td>U</td>\n",
       "      <td>no</td>\n",
       "      <td>home</td>\n",
       "      <td>yes</td>\n",
       "      <td>11</td>\n",
       "    </tr>\n",
       "  </tbody>\n",
       "</table>\n",
       "</div>"
      ],
      "text/plain": [
       "   absences address internet  reason higher  G1\n",
       "0         4       U       no  course    yes   0\n",
       "1         2       U      yes  course    yes   9\n",
       "2         6       U      yes   other    yes  12\n",
       "3         0       U      yes    home    yes  14\n",
       "4         0       U       no    home    yes  11"
      ]
     },
     "execution_count": 92,
     "metadata": {},
     "output_type": "execute_result"
    }
   ],
   "source": [
    "data_path = Path(\"./data/\")\n",
    "data = pd.read_csv(data_path / \"student-por.csv\", delimiter=';')[[\"absences\", \"address\", \"internet\", \"reason\", \"higher\", \"G1\"]]\n",
    "data = data[data.absences < 20]\n",
    "\n",
    "data.head()"
   ]
  },
  {
   "cell_type": "markdown",
   "id": "6d68b78d-2c43-4457-b787-c68dcd00c2cf",
   "metadata": {},
   "source": [
    "### Process Data \n",
    "\n",
    "Assign numerical values to string columns.  \n",
    "*Note*: do not worry about details such as having one-hot encoders for non-binary columns. Treat them as ordinal values."
   ]
  },
  {
   "cell_type": "code",
   "execution_count": 1,
   "id": "6a18bca6-700d-4420-bb29-eac1f77cde66",
   "metadata": {},
   "outputs": [],
   "source": [
    "#### ADD CODE HERE"
   ]
  },
  {
   "cell_type": "markdown",
   "id": "43329d1d-d519-4644-9b8e-06e93cff8b60",
   "metadata": {},
   "source": [
    "### Visualize Data\n",
    "\n",
    "See if you can find interesting patterns"
   ]
  },
  {
   "cell_type": "markdown",
   "id": "d658d9de-1d23-499e-94ca-0fb899f30c91",
   "metadata": {},
   "source": [
    "### Stats and Visualization"
   ]
  },
  {
   "cell_type": "code",
   "execution_count": 2,
   "id": "2cee129d-3c80-4dfe-ac39-eca505f0a8b7",
   "metadata": {},
   "outputs": [],
   "source": [
    "#### ADD CODE HERE "
   ]
  },
  {
   "cell_type": "markdown",
   "id": "79ff8a08-7bf3-4a78-977f-bd8c280a2675",
   "metadata": {},
   "source": [
    "### Naive Estimation: Part 1\n",
    "\n",
    "Estimate the `absences` to `G1` naively using linear regression. \n",
    "\n",
    "To be consistent, please use statsmodels library for that. The API is:\n",
    "\n",
    "```\n",
    "sm.OLS.from_formula(formula=\"your_formula here\", data=data) \n",
    "res = model.fit()\n",
    "res.summary()\n",
    "```\n",
    "\n",
    "What do you observe here? "
   ]
  },
  {
   "cell_type": "code",
   "execution_count": 3,
   "id": "35d3fb01-3652-4c94-9ba0-33087e2c7353",
   "metadata": {},
   "outputs": [],
   "source": [
    "#### ADD CODE HERE"
   ]
  },
  {
   "cell_type": "markdown",
   "id": "ab5e24ec-c189-42ba-ae4d-aff8c53a6d3a",
   "metadata": {},
   "source": [
    "### Naive Estimation Part 2\n",
    "\n",
    "Now try to fit a linear regression using all available variables. \n",
    " - What do you observe? \n",
    " - What are the differences? \n",
    " - What is the relative percentage difference between this estimate and previous one?\n",
    " - Which result to trust ?"
   ]
  },
  {
   "cell_type": "code",
   "execution_count": 4,
   "id": "e978f3ad-8d0c-4ebd-8ca8-df8d208b6ce5",
   "metadata": {},
   "outputs": [],
   "source": [
    "#### ADD CODE HERE"
   ]
  },
  {
   "cell_type": "markdown",
   "id": "bcd70750-75cd-4053-80bb-0a9ab67221aa",
   "metadata": {},
   "source": [
    "### Learning DAG Structure\n",
    "\n",
    "- Describe the structure you have learned\n",
    "- Given the results from Naive Estimation Part2, is your graph consistent with the results or not?\n",
    "- Where your learned structure is correct and where it is not?\n",
    "- Wherever your Structure is incorrect complete the graph by adding/removing edges. (in case you add an edge, please color it red)"
   ]
  },
  {
   "cell_type": "code",
   "execution_count": null,
   "id": "12c46481-8439-4d6b-a61d-488685a74089",
   "metadata": {},
   "outputs": [],
   "source": [
    "np.random.seed(42)\n",
    "\n",
    "weight_matrix = linear.notears_linear(data.values.astype(np.float32), lambda1=0.05, loss_type='l2')\n",
    "assert utils.is_dag(weight_matrix)\n",
    "weight_matrix"
   ]
  },
  {
   "cell_type": "code",
   "execution_count": 6,
   "id": "92ecaa02-b918-4e58-99aa-f420db7bd64b",
   "metadata": {},
   "outputs": [],
   "source": [
    "col_names  = data.columns.tolist()\n",
    "num_cols = len(col_names)\n",
    "\n",
    "dot = Digraph(comment='students', format='png')\n",
    "\n",
    "for col in col_names:\n",
    "    dot.node(col)\n",
    "\n",
    "for ix in range(num_cols):\n",
    "    edge_candidates = np.where(weight_matrix[ix, :] != 0)[0]\n",
    "    for ec in edge_candidates:\n",
    "        dot.edge(col_names[ix], col_names[ec], constraint=\"true\")"
   ]
  },
  {
   "cell_type": "markdown",
   "id": "c082f540-6325-4eb6-9258-4819ba4e8f22",
   "metadata": {},
   "source": [
    "### Structural Causal Model\n",
    "\n",
    "- Write down the SCM corresponding to your graph"
   ]
  },
  {
   "cell_type": "code",
   "execution_count": 1,
   "id": "ea235740-6e9a-41fb-82f3-86c5492fe66d",
   "metadata": {},
   "outputs": [],
   "source": [
    "### WRITE EQUATIONS HERE"
   ]
  },
  {
   "cell_type": "markdown",
   "id": "0aa96f4f-333e-430d-9380-c71ef1ad38a4",
   "metadata": {},
   "source": [
    "### Interventional Distribution\n",
    "\n",
    "- Draw the graph corresponding to the Interventional Distribution"
   ]
  },
  {
   "cell_type": "code",
   "execution_count": 2,
   "id": "69392b85-7cfa-499e-88bb-9a35389696be",
   "metadata": {},
   "outputs": [],
   "source": [
    "### ADD CODE HERE"
   ]
  },
  {
   "cell_type": "markdown",
   "id": "e55f2cec-04a8-42dd-938d-a9172124a61e",
   "metadata": {},
   "source": [
    "### Estimating ACE\n",
    "\n",
    "- Given a correct structure that you learned and modified from the previous example, fit a linear regression and estimate the `ACE` of `absences` on `G1`.\n",
    "- Estimate relative percentage differences between Naive Estimation 1 and 2"
   ]
  },
  {
   "cell_type": "code",
   "execution_count": 7,
   "id": "abbd5027-f1f2-406c-926e-b7b5e255d2bd",
   "metadata": {},
   "outputs": [],
   "source": [
    "#### ADD CODE HERE"
   ]
  }
 ],
 "metadata": {
  "kernelspec": {
   "display_name": "Python 3 (ipykernel)",
   "language": "python",
   "name": "python3"
  },
  "language_info": {
   "codemirror_mode": {
    "name": "ipython",
    "version": 3
   },
   "file_extension": ".py",
   "mimetype": "text/x-python",
   "name": "python",
   "nbconvert_exporter": "python",
   "pygments_lexer": "ipython3",
   "version": "3.9.10"
  }
 },
 "nbformat": 4,
 "nbformat_minor": 5
}
